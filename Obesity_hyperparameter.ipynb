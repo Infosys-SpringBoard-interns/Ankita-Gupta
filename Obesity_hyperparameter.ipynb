{
  "nbformat": 4,
  "nbformat_minor": 0,
  "metadata": {
    "colab": {
      "provenance": [],
      "gpuType": "T4"
    },
    "kernelspec": {
      "name": "python3",
      "display_name": "Python 3"
    },
    "language_info": {
      "name": "python"
    },
    "accelerator": "GPU"
  },
  "cells": [
    {
      "cell_type": "markdown",
      "source": [
        "**Machine Learning Application**"
      ],
      "metadata": {
        "id": "5IYAI_GooDcL"
      }
    },
    {
      "cell_type": "code",
      "execution_count": 16,
      "metadata": {
        "id": "9Oe95wxQrunp"
      },
      "outputs": [],
      "source": [
        "import numpy as np\n",
        "import pandas as pd\n",
        "from sklearn.preprocessing import LabelEncoder, StandardScaler\n",
        "from sklearn.model_selection import train_test_split, GridSearchCV\n",
        "from sklearn.linear_model import LogisticRegression\n",
        "from sklearn.ensemble import RandomForestClassifier\n",
        "from sklearn.svm import SVC\n",
        "from xgboost import XGBClassifier\n",
        "from sklearn.metrics import accuracy_score, classification_report\n",
        "import warnings\n",
        "warnings.filterwarnings('ignore')\n",
        "\n",
        "df = pd.read_csv('obesity_data_with_status_50000.csv')"
      ]
    },
    {
      "cell_type": "code",
      "source": [
        "label_encoder = LabelEncoder()\n",
        "df['Obesity_Status'] = label_encoder.fit_transform(df['Obesity_Status'])\n",
        "df['Blood_Pressure'] = label_encoder.fit_transform(df['Blood_Pressure'])\n",
        "\n",
        "def remove_outliers_zscore(df, column_names, threshold=3):\n",
        "    z_scores = np.abs((df[column_names] - df[column_names].mean()) / df[column_names].std())\n",
        "    filtered_df = df[(z_scores < threshold).all(axis=1)]\n",
        "    return filtered_df\n",
        "\n",
        "continuous_columns = ['Height_cm', 'Weight_kg']\n",
        "df_cleaned = remove_outliers_zscore(df, continuous_columns)"
      ],
      "metadata": {
        "id": "gc0CqPTIsL_Q"
      },
      "execution_count": 17,
      "outputs": []
    },
    {
      "cell_type": "code",
      "source": [
        "scaler = StandardScaler()\n",
        "df_cleaned[['Height_cm', 'Weight_kg']] = scaler.fit_transform(df_cleaned[['Height_cm', 'Weight_kg']])"
      ],
      "metadata": {
        "id": "eQM2csQRsR8s"
      },
      "execution_count": 18,
      "outputs": []
    },
    {
      "cell_type": "code",
      "source": [
        "# Feature-target split\n",
        "X = df_cleaned.drop('Obesity_Status', axis=1)\n",
        "y = df_cleaned['Obesity_Status']\n",
        "\n",
        "# Train-validation-test split (60% train, 20% validation, 20% test)\n",
        "X_train, X_temp, y_train, y_temp = train_test_split(X, y, test_size=0.4, random_state=42)\n",
        "X_val, X_test, y_val, y_test = train_test_split(X_temp, y_temp, test_size=0.5, random_state=42)"
      ],
      "metadata": {
        "id": "VNZt2a81sUna"
      },
      "execution_count": 19,
      "outputs": []
    },
    {
      "cell_type": "code",
      "source": [
        "# 1. Logistic Regression with hyperparameter tuning\n",
        "log_reg_params = {\n",
        "    'C': [0.01, 10, 100,200,300],\n",
        "    'solver': ['liblinear', 'lbfgs']\n",
        "}\n",
        "log_reg = GridSearchCV(LogisticRegression(), log_reg_params, cv=5, scoring='accuracy')\n",
        "log_reg.fit(X_train, y_train)\n",
        "y_val_pred_log_reg = log_reg.predict(X_val)\n",
        "print(f\"Logistic Regression Best Params: {log_reg.best_params_}\")\n",
        "print(f\"Logistic Regression Validation Accuracy: {accuracy_score(y_val, y_val_pred_log_reg)}\")"
      ],
      "metadata": {
        "colab": {
          "base_uri": "https://localhost:8080/"
        },
        "id": "QRUS9vU-tKuC",
        "outputId": "866b06b8-bb5f-4f25-e33b-9c0446dcc7f2"
      },
      "execution_count": 25,
      "outputs": [
        {
          "output_type": "stream",
          "name": "stdout",
          "text": [
            "Logistic Regression Best Params: {'C': 100, 'solver': 'liblinear'}\n",
            "Logistic Regression Validation Accuracy: 0.9425067846014675\n"
          ]
        }
      ]
    },
    {
      "cell_type": "code",
      "source": [
        "# 2. Random Forest with hyperparameter tuning\n",
        "rf_params = {\n",
        "    'n_estimators': [50, 100, 200],\n",
        "    'max_depth': [None, 10, 20],\n",
        "    'min_samples_split': [2, 5, 10]\n",
        "}\n",
        "rf_model = GridSearchCV(RandomForestClassifier(), rf_params, cv=5, scoring='accuracy')\n",
        "rf_model.fit(X_train, y_train)\n",
        "y_val_pred_rf = rf_model.predict(X_val)\n",
        "print(f\"Random Forest Best Params: {rf_model.best_params_}\")\n",
        "print(f\"Random Forest Validation Accuracy: {accuracy_score(y_val, y_val_pred_rf)}\")"
      ],
      "metadata": {
        "colab": {
          "base_uri": "https://localhost:8080/"
        },
        "id": "LKHi3kcquJQz",
        "outputId": "0e7756be-c230-4a73-ac48-1aba4dba1f9d"
      },
      "execution_count": 26,
      "outputs": [
        {
          "output_type": "stream",
          "name": "stdout",
          "text": [
            "Random Forest Best Params: {'max_depth': None, 'min_samples_split': 5, 'n_estimators': 200}\n",
            "Random Forest Validation Accuracy: 1.0\n"
          ]
        }
      ]
    },
    {
      "cell_type": "code",
      "source": [
        "# 3. SVM with hyperparameter tuning\n",
        "svm_params = {\n",
        "    'C': [0.1, 1, 10, 100],\n",
        "    'kernel': ['linear', 'rbf','poly']\n",
        "}\n",
        "svm_model = GridSearchCV(SVC(), svm_params, cv=5, scoring='accuracy')\n",
        "svm_model.fit(X_train, y_train)\n",
        "y_val_pred_svm = svm_model.predict(X_val)\n",
        "print(f\"SVM Best Params: {svm_model.best_params_}\")\n",
        "print(f\"SVM Validation Accuracy: {accuracy_score(y_val, y_val_pred_svm)}\")"
      ],
      "metadata": {
        "colab": {
          "base_uri": "https://localhost:8080/"
        },
        "id": "wYq-8IhYu8IT",
        "outputId": "93f04b59-8798-4375-d31d-1338e658a384"
      },
      "execution_count": 27,
      "outputs": [
        {
          "output_type": "stream",
          "name": "stdout",
          "text": [
            "SVM Best Params: {'C': 100, 'kernel': 'linear'}\n",
            "SVM Validation Accuracy: 0.9991958990853352\n"
          ]
        }
      ]
    },
    {
      "cell_type": "code",
      "source": [
        "# 4. XGBoost with hyperparameter tuning\n",
        "xgb_params = {\n",
        "    'learning_rate': [0.01, 0.1, 0.2],\n",
        "    'n_estimators': [50, 100, 200],\n",
        "    'max_depth': [3, 5, 7]\n",
        "}\n",
        "xgb_model = GridSearchCV(XGBClassifier(), xgb_params, cv=5, scoring='accuracy')\n",
        "xgb_model.fit(X_train, y_train)\n",
        "y_val_pred_xgb = xgb_model.predict(X_val)\n",
        "print(f\"XGBoost Best Params: {xgb_model.best_params_}\")\n",
        "print(f\"XGBoost Validation Accuracy: {accuracy_score(y_val, y_val_pred_xgb)}\")"
      ],
      "metadata": {
        "colab": {
          "base_uri": "https://localhost:8080/"
        },
        "id": "su3WXNFXvNhI",
        "outputId": "c5295d11-78cd-4f64-9ccd-7fd4d0125510"
      },
      "execution_count": 28,
      "outputs": [
        {
          "output_type": "stream",
          "name": "stdout",
          "text": [
            "XGBoost Best Params: {'learning_rate': 0.01, 'max_depth': 3, 'n_estimators': 200}\n",
            "XGBoost Validation Accuracy: 0.9974871846416725\n"
          ]
        }
      ]
    },
    {
      "cell_type": "code",
      "source": [
        "# Final evaluation on the test set\n",
        "print(\"\\n--- Final Test Accuracy ---\")\n",
        "y_test_pred_log_reg = log_reg.predict(X_test)\n",
        "print(f\"Logistic Regression Test Accuracy: {accuracy_score(y_test, y_test_pred_log_reg)}\")\n",
        "\n",
        "y_test_pred_rf = rf_model.predict(X_test)\n",
        "print(f\"Random Forest Test Accuracy: {accuracy_score(y_test, y_test_pred_rf)}\")\n",
        "\n",
        "y_test_pred_svm = svm_model.predict(X_test)\n",
        "print(f\"SVM Test Accuracy: {accuracy_score(y_test, y_test_pred_svm)}\")\n",
        "\n",
        "y_test_pred_xgb = xgb_model.predict(X_test)\n",
        "print(f\"XGBoost Test Accuracy: {accuracy_score(y_test, y_test_pred_xgb)}\")"
      ],
      "metadata": {
        "colab": {
          "base_uri": "https://localhost:8080/"
        },
        "id": "zUajfZFcwuyi",
        "outputId": "e5658b49-5ced-43be-c649-0d114b956768"
      },
      "execution_count": 31,
      "outputs": [
        {
          "output_type": "stream",
          "name": "stdout",
          "text": [
            "\n",
            "--- Final Test Accuracy ---\n",
            "Logistic Regression Test Accuracy: 0.9396924314001407\n",
            "Random Forest Test Accuracy: 1.0\n",
            "SVM Test Accuracy: 0.9991958990853352\n",
            "XGBoost Test Accuracy: 0.9983917981706704\n"
          ]
        }
      ]
    },
    {
      "cell_type": "markdown",
      "source": [
        "**Deep Learning Application**"
      ],
      "metadata": {
        "id": "hAArWtVKn9Zw"
      }
    },
    {
      "cell_type": "code",
      "source": [
        "import tensorflow as tf\n",
        "from tensorflow.keras.models import Sequential\n",
        "from tensorflow.keras.layers import Dense, Dropout\n",
        "from tensorflow.keras.callbacks import EarlyStopping, ReduceLROnPlateau\n",
        "\n",
        "def focal_loss(gamma=2., alpha=4.):\n",
        "    def focal_loss_fixed(y_true, y_pred):\n",
        "        epsilon = tf.keras.backend.epsilon()\n",
        "        y_pred = tf.clip_by_value(y_pred, epsilon, 1. - epsilon)\n",
        "        cross_entropy = -y_true * tf.math.log(y_pred)\n",
        "        weight = alpha * tf.math.pow(1 - y_pred, gamma)\n",
        "        loss = weight * cross_entropy\n",
        "        return tf.reduce_mean(loss)\n",
        "    return focal_loss_fixed"
      ],
      "metadata": {
        "id": "jR3kMKBCszgk"
      },
      "execution_count": 10,
      "outputs": []
    },
    {
      "cell_type": "code",
      "source": [
        "model = Sequential()\n",
        "model.add(Dense(128, activation='relu', input_shape=(X_train.shape[1],)))\n",
        "model.add(Dropout(0.5))\n",
        "model.add(Dense(64, activation='relu'))\n",
        "model.add(Dropout(0.5))\n",
        "model.add(Dense(4, activation='softmax'))\n",
        "\n",
        "model.compile(optimizer='adam', loss=focal_loss(gamma=2., alpha=4.), metrics=['accuracy'])\n",
        "\n",
        "# Early Stopping and Learning Rate Reduction\n",
        "early_stopping = EarlyStopping(monitor='val_loss', patience=5, restore_best_weights=True)\n",
        "lr_reduction = ReduceLROnPlateau(monitor='val_loss', factor=0.2, patience=3, min_lr=1e-6)\n",
        "\n",
        "history = model.fit(X_train, tf.keras.utils.to_categorical(y_train, num_classes=4),\n",
        "                    epochs=50, batch_size=32,\n",
        "                    validation_data=(X_test, tf.keras.utils.to_categorical(y_test, num_classes=4)),\n",
        "                    callbacks=[early_stopping, lr_reduction])"
      ],
      "metadata": {
        "colab": {
          "base_uri": "https://localhost:8080/"
        },
        "id": "N6GYFpT-tBbn",
        "outputId": "fd8a78d9-1479-46b0-c5f4-b2da452e534a"
      },
      "execution_count": 11,
      "outputs": [
        {
          "output_type": "stream",
          "name": "stdout",
          "text": [
            "Epoch 1/50\n",
            "\u001b[1m1244/1244\u001b[0m \u001b[32m━━━━━━━━━━━━━━━━━━━━\u001b[0m\u001b[37m\u001b[0m \u001b[1m13s\u001b[0m 7ms/step - accuracy: 0.3999 - loss: 1.5859 - val_accuracy: 0.7830 - val_loss: 0.1634 - learning_rate: 0.0010\n",
            "Epoch 2/50\n",
            "\u001b[1m1244/1244\u001b[0m \u001b[32m━━━━━━━━━━━━━━━━━━━━\u001b[0m\u001b[37m\u001b[0m \u001b[1m12s\u001b[0m 2ms/step - accuracy: 0.7174 - loss: 0.2154 - val_accuracy: 0.8942 - val_loss: 0.0702 - learning_rate: 0.0010\n",
            "Epoch 3/50\n",
            "\u001b[1m1244/1244\u001b[0m \u001b[32m━━━━━━━━━━━━━━━━━━━━\u001b[0m\u001b[37m\u001b[0m \u001b[1m4s\u001b[0m 2ms/step - accuracy: 0.8246 - loss: 0.1172 - val_accuracy: 0.8886 - val_loss: 0.0591 - learning_rate: 0.0010\n",
            "Epoch 4/50\n",
            "\u001b[1m1244/1244\u001b[0m \u001b[32m━━━━━━━━━━━━━━━━━━━━\u001b[0m\u001b[37m\u001b[0m \u001b[1m3s\u001b[0m 2ms/step - accuracy: 0.8653 - loss: 0.0865 - val_accuracy: 0.9519 - val_loss: 0.0396 - learning_rate: 0.0010\n",
            "Epoch 5/50\n",
            "\u001b[1m1244/1244\u001b[0m \u001b[32m━━━━━━━━━━━━━━━━━━━━\u001b[0m\u001b[37m\u001b[0m \u001b[1m6s\u001b[0m 3ms/step - accuracy: 0.8911 - loss: 0.0719 - val_accuracy: 0.9446 - val_loss: 0.0364 - learning_rate: 0.0010\n",
            "Epoch 6/50\n",
            "\u001b[1m1244/1244\u001b[0m \u001b[32m━━━━━━━━━━━━━━━━━━━━\u001b[0m\u001b[37m\u001b[0m \u001b[1m5s\u001b[0m 4ms/step - accuracy: 0.9046 - loss: 0.0621 - val_accuracy: 0.9555 - val_loss: 0.0321 - learning_rate: 0.0010\n",
            "Epoch 7/50\n",
            "\u001b[1m1244/1244\u001b[0m \u001b[32m━━━━━━━━━━━━━━━━━━━━\u001b[0m\u001b[37m\u001b[0m \u001b[1m6s\u001b[0m 4ms/step - accuracy: 0.9129 - loss: 0.0568 - val_accuracy: 0.9094 - val_loss: 0.0417 - learning_rate: 0.0010\n",
            "Epoch 8/50\n",
            "\u001b[1m1244/1244\u001b[0m \u001b[32m━━━━━━━━━━━━━━━━━━━━\u001b[0m\u001b[37m\u001b[0m \u001b[1m9s\u001b[0m 3ms/step - accuracy: 0.9235 - loss: 0.0515 - val_accuracy: 0.9822 - val_loss: 0.0197 - learning_rate: 0.0010\n",
            "Epoch 9/50\n",
            "\u001b[1m1244/1244\u001b[0m \u001b[32m━━━━━━━━━━━━━━━━━━━━\u001b[0m\u001b[37m\u001b[0m \u001b[1m3s\u001b[0m 2ms/step - accuracy: 0.9247 - loss: 0.0492 - val_accuracy: 0.9508 - val_loss: 0.0329 - learning_rate: 0.0010\n",
            "Epoch 10/50\n",
            "\u001b[1m1244/1244\u001b[0m \u001b[32m━━━━━━━━━━━━━━━━━━━━\u001b[0m\u001b[37m\u001b[0m \u001b[1m6s\u001b[0m 3ms/step - accuracy: 0.9287 - loss: 0.0467 - val_accuracy: 0.9749 - val_loss: 0.0193 - learning_rate: 0.0010\n",
            "Epoch 11/50\n",
            "\u001b[1m1244/1244\u001b[0m \u001b[32m━━━━━━━━━━━━━━━━━━━━\u001b[0m\u001b[37m\u001b[0m \u001b[1m2s\u001b[0m 2ms/step - accuracy: 0.9321 - loss: 0.0445 - val_accuracy: 0.9732 - val_loss: 0.0191 - learning_rate: 0.0010\n",
            "Epoch 12/50\n",
            "\u001b[1m1244/1244\u001b[0m \u001b[32m━━━━━━━━━━━━━━━━━━━━\u001b[0m\u001b[37m\u001b[0m \u001b[1m3s\u001b[0m 2ms/step - accuracy: 0.9359 - loss: 0.0425 - val_accuracy: 0.9691 - val_loss: 0.0182 - learning_rate: 0.0010\n",
            "Epoch 13/50\n",
            "\u001b[1m1244/1244\u001b[0m \u001b[32m━━━━━━━━━━━━━━━━━━━━\u001b[0m\u001b[37m\u001b[0m \u001b[1m5s\u001b[0m 2ms/step - accuracy: 0.9378 - loss: 0.0407 - val_accuracy: 0.9651 - val_loss: 0.0222 - learning_rate: 0.0010\n",
            "Epoch 14/50\n",
            "\u001b[1m1244/1244\u001b[0m \u001b[32m━━━━━━━━━━━━━━━━━━━━\u001b[0m\u001b[37m\u001b[0m \u001b[1m5s\u001b[0m 2ms/step - accuracy: 0.9371 - loss: 0.0415 - val_accuracy: 0.9745 - val_loss: 0.0197 - learning_rate: 0.0010\n",
            "Epoch 15/50\n",
            "\u001b[1m1244/1244\u001b[0m \u001b[32m━━━━━━━━━━━━━━━━━━━━\u001b[0m\u001b[37m\u001b[0m \u001b[1m3s\u001b[0m 2ms/step - accuracy: 0.9416 - loss: 0.0385 - val_accuracy: 0.9718 - val_loss: 0.0185 - learning_rate: 0.0010\n",
            "Epoch 16/50\n",
            "\u001b[1m1244/1244\u001b[0m \u001b[32m━━━━━━━━━━━━━━━━━━━━\u001b[0m\u001b[37m\u001b[0m \u001b[1m6s\u001b[0m 2ms/step - accuracy: 0.9568 - loss: 0.0288 - val_accuracy: 0.9848 - val_loss: 0.0102 - learning_rate: 2.0000e-04\n",
            "Epoch 17/50\n",
            "\u001b[1m1244/1244\u001b[0m \u001b[32m━━━━━━━━━━━━━━━━━━━━\u001b[0m\u001b[37m\u001b[0m \u001b[1m5s\u001b[0m 2ms/step - accuracy: 0.9676 - loss: 0.0222 - val_accuracy: 0.9880 - val_loss: 0.0102 - learning_rate: 2.0000e-04\n",
            "Epoch 18/50\n",
            "\u001b[1m1244/1244\u001b[0m \u001b[32m━━━━━━━━━━━━━━━━━━━━\u001b[0m\u001b[37m\u001b[0m \u001b[1m4s\u001b[0m 3ms/step - accuracy: 0.9705 - loss: 0.0205 - val_accuracy: 0.9792 - val_loss: 0.0109 - learning_rate: 2.0000e-04\n",
            "Epoch 19/50\n",
            "\u001b[1m1244/1244\u001b[0m \u001b[32m━━━━━━━━━━━━━━━━━━━━\u001b[0m\u001b[37m\u001b[0m \u001b[1m3s\u001b[0m 2ms/step - accuracy: 0.9693 - loss: 0.0211 - val_accuracy: 0.9878 - val_loss: 0.0087 - learning_rate: 2.0000e-04\n",
            "Epoch 20/50\n",
            "\u001b[1m1244/1244\u001b[0m \u001b[32m━━━━━━━━━━━━━━━━━━━━\u001b[0m\u001b[37m\u001b[0m \u001b[1m5s\u001b[0m 2ms/step - accuracy: 0.9736 - loss: 0.0184 - val_accuracy: 0.9932 - val_loss: 0.0073 - learning_rate: 2.0000e-04\n",
            "Epoch 21/50\n",
            "\u001b[1m1244/1244\u001b[0m \u001b[32m━━━━━━━━━━━━━━━━━━━━\u001b[0m\u001b[37m\u001b[0m \u001b[1m2s\u001b[0m 2ms/step - accuracy: 0.9739 - loss: 0.0185 - val_accuracy: 0.9864 - val_loss: 0.0095 - learning_rate: 2.0000e-04\n",
            "Epoch 22/50\n",
            "\u001b[1m1244/1244\u001b[0m \u001b[32m━━━━━━━━━━━━━━━━━━━━\u001b[0m\u001b[37m\u001b[0m \u001b[1m3s\u001b[0m 2ms/step - accuracy: 0.9736 - loss: 0.0185 - val_accuracy: 0.9919 - val_loss: 0.0075 - learning_rate: 2.0000e-04\n",
            "Epoch 23/50\n",
            "\u001b[1m1244/1244\u001b[0m \u001b[32m━━━━━━━━━━━━━━━━━━━━\u001b[0m\u001b[37m\u001b[0m \u001b[1m3s\u001b[0m 3ms/step - accuracy: 0.9733 - loss: 0.0184 - val_accuracy: 0.9884 - val_loss: 0.0089 - learning_rate: 2.0000e-04\n",
            "Epoch 24/50\n",
            "\u001b[1m1244/1244\u001b[0m \u001b[32m━━━━━━━━━━━━━━━━━━━━\u001b[0m\u001b[37m\u001b[0m \u001b[1m4s\u001b[0m 2ms/step - accuracy: 0.9784 - loss: 0.0151 - val_accuracy: 0.9927 - val_loss: 0.0064 - learning_rate: 4.0000e-05\n",
            "Epoch 25/50\n",
            "\u001b[1m1244/1244\u001b[0m \u001b[32m━━━━━━━━━━━━━━━━━━━━\u001b[0m\u001b[37m\u001b[0m \u001b[1m3s\u001b[0m 2ms/step - accuracy: 0.9793 - loss: 0.0145 - val_accuracy: 0.9934 - val_loss: 0.0058 - learning_rate: 4.0000e-05\n",
            "Epoch 26/50\n",
            "\u001b[1m1244/1244\u001b[0m \u001b[32m━━━━━━━━━━━━━━━━━━━━\u001b[0m\u001b[37m\u001b[0m \u001b[1m6s\u001b[0m 3ms/step - accuracy: 0.9819 - loss: 0.0136 - val_accuracy: 0.9918 - val_loss: 0.0062 - learning_rate: 4.0000e-05\n",
            "Epoch 27/50\n",
            "\u001b[1m1244/1244\u001b[0m \u001b[32m━━━━━━━━━━━━━━━━━━━━\u001b[0m\u001b[37m\u001b[0m \u001b[1m3s\u001b[0m 2ms/step - accuracy: 0.9806 - loss: 0.0141 - val_accuracy: 0.9927 - val_loss: 0.0060 - learning_rate: 4.0000e-05\n",
            "Epoch 28/50\n",
            "\u001b[1m1244/1244\u001b[0m \u001b[32m━━━━━━━━━━━━━━━━━━━━\u001b[0m\u001b[37m\u001b[0m \u001b[1m5s\u001b[0m 2ms/step - accuracy: 0.9825 - loss: 0.0134 - val_accuracy: 0.9928 - val_loss: 0.0061 - learning_rate: 4.0000e-05\n",
            "Epoch 29/50\n",
            "\u001b[1m1244/1244\u001b[0m \u001b[32m━━━━━━━━━━━━━━━━━━━━\u001b[0m\u001b[37m\u001b[0m \u001b[1m3s\u001b[0m 2ms/step - accuracy: 0.9822 - loss: 0.0129 - val_accuracy: 0.9935 - val_loss: 0.0055 - learning_rate: 8.0000e-06\n",
            "Epoch 30/50\n",
            "\u001b[1m1244/1244\u001b[0m \u001b[32m━━━━━━━━━━━━━━━━━━━━\u001b[0m\u001b[37m\u001b[0m \u001b[1m4s\u001b[0m 3ms/step - accuracy: 0.9829 - loss: 0.0129 - val_accuracy: 0.9949 - val_loss: 0.0054 - learning_rate: 8.0000e-06\n",
            "Epoch 31/50\n",
            "\u001b[1m1244/1244\u001b[0m \u001b[32m━━━━━━━━━━━━━━━━━━━━\u001b[0m\u001b[37m\u001b[0m \u001b[1m3s\u001b[0m 2ms/step - accuracy: 0.9820 - loss: 0.0127 - val_accuracy: 0.9945 - val_loss: 0.0052 - learning_rate: 8.0000e-06\n",
            "Epoch 32/50\n",
            "\u001b[1m1244/1244\u001b[0m \u001b[32m━━━━━━━━━━━━━━━━━━━━\u001b[0m\u001b[37m\u001b[0m \u001b[1m2s\u001b[0m 2ms/step - accuracy: 0.9827 - loss: 0.0129 - val_accuracy: 0.9940 - val_loss: 0.0053 - learning_rate: 8.0000e-06\n",
            "Epoch 33/50\n",
            "\u001b[1m1244/1244\u001b[0m \u001b[32m━━━━━━━━━━━━━━━━━━━━\u001b[0m\u001b[37m\u001b[0m \u001b[1m3s\u001b[0m 2ms/step - accuracy: 0.9818 - loss: 0.0129 - val_accuracy: 0.9952 - val_loss: 0.0052 - learning_rate: 8.0000e-06\n",
            "Epoch 34/50\n",
            "\u001b[1m1244/1244\u001b[0m \u001b[32m━━━━━━━━━━━━━━━━━━━━\u001b[0m\u001b[37m\u001b[0m \u001b[1m3s\u001b[0m 2ms/step - accuracy: 0.9823 - loss: 0.0129 - val_accuracy: 0.9949 - val_loss: 0.0052 - learning_rate: 8.0000e-06\n",
            "Epoch 35/50\n",
            "\u001b[1m1244/1244\u001b[0m \u001b[32m━━━━━━━━━━━━━━━━━━━━\u001b[0m\u001b[37m\u001b[0m \u001b[1m4s\u001b[0m 3ms/step - accuracy: 0.9828 - loss: 0.0124 - val_accuracy: 0.9948 - val_loss: 0.0052 - learning_rate: 1.6000e-06\n",
            "Epoch 36/50\n",
            "\u001b[1m1244/1244\u001b[0m \u001b[32m━━━━━━━━━━━━━━━━━━━━\u001b[0m\u001b[37m\u001b[0m \u001b[1m3s\u001b[0m 2ms/step - accuracy: 0.9827 - loss: 0.0130 - val_accuracy: 0.9948 - val_loss: 0.0052 - learning_rate: 1.6000e-06\n",
            "Epoch 37/50\n",
            "\u001b[1m1244/1244\u001b[0m \u001b[32m━━━━━━━━━━━━━━━━━━━━\u001b[0m\u001b[37m\u001b[0m \u001b[1m5s\u001b[0m 2ms/step - accuracy: 0.9829 - loss: 0.0127 - val_accuracy: 0.9947 - val_loss: 0.0051 - learning_rate: 1.6000e-06\n",
            "Epoch 38/50\n",
            "\u001b[1m1244/1244\u001b[0m \u001b[32m━━━━━━━━━━━━━━━━━━━━\u001b[0m\u001b[37m\u001b[0m \u001b[1m6s\u001b[0m 4ms/step - accuracy: 0.9827 - loss: 0.0132 - val_accuracy: 0.9948 - val_loss: 0.0052 - learning_rate: 1.0000e-06\n",
            "Epoch 39/50\n",
            "\u001b[1m1244/1244\u001b[0m \u001b[32m━━━━━━━━━━━━━━━━━━━━\u001b[0m\u001b[37m\u001b[0m \u001b[1m3s\u001b[0m 3ms/step - accuracy: 0.9823 - loss: 0.0125 - val_accuracy: 0.9947 - val_loss: 0.0052 - learning_rate: 1.0000e-06\n",
            "Epoch 40/50\n",
            "\u001b[1m1244/1244\u001b[0m \u001b[32m━━━━━━━━━━━━━━━━━━━━\u001b[0m\u001b[37m\u001b[0m \u001b[1m3s\u001b[0m 2ms/step - accuracy: 0.9827 - loss: 0.0123 - val_accuracy: 0.9945 - val_loss: 0.0052 - learning_rate: 1.0000e-06\n",
            "Epoch 41/50\n",
            "\u001b[1m1244/1244\u001b[0m \u001b[32m━━━━━━━━━━━━━━━━━━━━\u001b[0m\u001b[37m\u001b[0m \u001b[1m7s\u001b[0m 4ms/step - accuracy: 0.9831 - loss: 0.0131 - val_accuracy: 0.9947 - val_loss: 0.0052 - learning_rate: 1.0000e-06\n",
            "Epoch 42/50\n",
            "\u001b[1m1244/1244\u001b[0m \u001b[32m━━━━━━━━━━━━━━━━━━━━\u001b[0m\u001b[37m\u001b[0m \u001b[1m2s\u001b[0m 2ms/step - accuracy: 0.9840 - loss: 0.0124 - val_accuracy: 0.9947 - val_loss: 0.0052 - learning_rate: 1.0000e-06\n"
          ]
        }
      ]
    },
    {
      "cell_type": "code",
      "source": [
        "model.summary()"
      ],
      "metadata": {
        "colab": {
          "base_uri": "https://localhost:8080/",
          "height": 305
        },
        "id": "AhlqvDZVtDv3",
        "outputId": "ffacec22-9193-4240-8236-04c9b8abe2cb"
      },
      "execution_count": 12,
      "outputs": [
        {
          "output_type": "display_data",
          "data": {
            "text/plain": [
              "\u001b[1mModel: \"sequential\"\u001b[0m\n"
            ],
            "text/html": [
              "<pre style=\"white-space:pre;overflow-x:auto;line-height:normal;font-family:Menlo,'DejaVu Sans Mono',consolas,'Courier New',monospace\"><span style=\"font-weight: bold\">Model: \"sequential\"</span>\n",
              "</pre>\n"
            ]
          },
          "metadata": {}
        },
        {
          "output_type": "display_data",
          "data": {
            "text/plain": [
              "┏━━━━━━━━━━━━━━━━━━━━━━━━━━━━━━━━━━━━━━┳━━━━━━━━━━━━━━━━━━━━━━━━━━━━━┳━━━━━━━━━━━━━━━━━┓\n",
              "┃\u001b[1m \u001b[0m\u001b[1mLayer (type)                        \u001b[0m\u001b[1m \u001b[0m┃\u001b[1m \u001b[0m\u001b[1mOutput Shape               \u001b[0m\u001b[1m \u001b[0m┃\u001b[1m \u001b[0m\u001b[1m        Param #\u001b[0m\u001b[1m \u001b[0m┃\n",
              "┡━━━━━━━━━━━━━━━━━━━━━━━━━━━━━━━━━━━━━━╇━━━━━━━━━━━━━━━━━━━━━━━━━━━━━╇━━━━━━━━━━━━━━━━━┩\n",
              "│ dense (\u001b[38;5;33mDense\u001b[0m)                        │ (\u001b[38;5;45mNone\u001b[0m, \u001b[38;5;34m128\u001b[0m)                 │           \u001b[38;5;34m2,048\u001b[0m │\n",
              "├──────────────────────────────────────┼─────────────────────────────┼─────────────────┤\n",
              "│ dropout (\u001b[38;5;33mDropout\u001b[0m)                    │ (\u001b[38;5;45mNone\u001b[0m, \u001b[38;5;34m128\u001b[0m)                 │               \u001b[38;5;34m0\u001b[0m │\n",
              "├──────────────────────────────────────┼─────────────────────────────┼─────────────────┤\n",
              "│ dense_1 (\u001b[38;5;33mDense\u001b[0m)                      │ (\u001b[38;5;45mNone\u001b[0m, \u001b[38;5;34m64\u001b[0m)                  │           \u001b[38;5;34m8,256\u001b[0m │\n",
              "├──────────────────────────────────────┼─────────────────────────────┼─────────────────┤\n",
              "│ dropout_1 (\u001b[38;5;33mDropout\u001b[0m)                  │ (\u001b[38;5;45mNone\u001b[0m, \u001b[38;5;34m64\u001b[0m)                  │               \u001b[38;5;34m0\u001b[0m │\n",
              "├──────────────────────────────────────┼─────────────────────────────┼─────────────────┤\n",
              "│ dense_2 (\u001b[38;5;33mDense\u001b[0m)                      │ (\u001b[38;5;45mNone\u001b[0m, \u001b[38;5;34m4\u001b[0m)                   │             \u001b[38;5;34m260\u001b[0m │\n",
              "└──────────────────────────────────────┴─────────────────────────────┴─────────────────┘\n"
            ],
            "text/html": [
              "<pre style=\"white-space:pre;overflow-x:auto;line-height:normal;font-family:Menlo,'DejaVu Sans Mono',consolas,'Courier New',monospace\">┏━━━━━━━━━━━━━━━━━━━━━━━━━━━━━━━━━━━━━━┳━━━━━━━━━━━━━━━━━━━━━━━━━━━━━┳━━━━━━━━━━━━━━━━━┓\n",
              "┃<span style=\"font-weight: bold\"> Layer (type)                         </span>┃<span style=\"font-weight: bold\"> Output Shape                </span>┃<span style=\"font-weight: bold\">         Param # </span>┃\n",
              "┡━━━━━━━━━━━━━━━━━━━━━━━━━━━━━━━━━━━━━━╇━━━━━━━━━━━━━━━━━━━━━━━━━━━━━╇━━━━━━━━━━━━━━━━━┩\n",
              "│ dense (<span style=\"color: #0087ff; text-decoration-color: #0087ff\">Dense</span>)                        │ (<span style=\"color: #00d7ff; text-decoration-color: #00d7ff\">None</span>, <span style=\"color: #00af00; text-decoration-color: #00af00\">128</span>)                 │           <span style=\"color: #00af00; text-decoration-color: #00af00\">2,048</span> │\n",
              "├──────────────────────────────────────┼─────────────────────────────┼─────────────────┤\n",
              "│ dropout (<span style=\"color: #0087ff; text-decoration-color: #0087ff\">Dropout</span>)                    │ (<span style=\"color: #00d7ff; text-decoration-color: #00d7ff\">None</span>, <span style=\"color: #00af00; text-decoration-color: #00af00\">128</span>)                 │               <span style=\"color: #00af00; text-decoration-color: #00af00\">0</span> │\n",
              "├──────────────────────────────────────┼─────────────────────────────┼─────────────────┤\n",
              "│ dense_1 (<span style=\"color: #0087ff; text-decoration-color: #0087ff\">Dense</span>)                      │ (<span style=\"color: #00d7ff; text-decoration-color: #00d7ff\">None</span>, <span style=\"color: #00af00; text-decoration-color: #00af00\">64</span>)                  │           <span style=\"color: #00af00; text-decoration-color: #00af00\">8,256</span> │\n",
              "├──────────────────────────────────────┼─────────────────────────────┼─────────────────┤\n",
              "│ dropout_1 (<span style=\"color: #0087ff; text-decoration-color: #0087ff\">Dropout</span>)                  │ (<span style=\"color: #00d7ff; text-decoration-color: #00d7ff\">None</span>, <span style=\"color: #00af00; text-decoration-color: #00af00\">64</span>)                  │               <span style=\"color: #00af00; text-decoration-color: #00af00\">0</span> │\n",
              "├──────────────────────────────────────┼─────────────────────────────┼─────────────────┤\n",
              "│ dense_2 (<span style=\"color: #0087ff; text-decoration-color: #0087ff\">Dense</span>)                      │ (<span style=\"color: #00d7ff; text-decoration-color: #00d7ff\">None</span>, <span style=\"color: #00af00; text-decoration-color: #00af00\">4</span>)                   │             <span style=\"color: #00af00; text-decoration-color: #00af00\">260</span> │\n",
              "└──────────────────────────────────────┴─────────────────────────────┴─────────────────┘\n",
              "</pre>\n"
            ]
          },
          "metadata": {}
        },
        {
          "output_type": "display_data",
          "data": {
            "text/plain": [
              "\u001b[1m Total params: \u001b[0m\u001b[38;5;34m31,694\u001b[0m (123.81 KB)\n"
            ],
            "text/html": [
              "<pre style=\"white-space:pre;overflow-x:auto;line-height:normal;font-family:Menlo,'DejaVu Sans Mono',consolas,'Courier New',monospace\"><span style=\"font-weight: bold\"> Total params: </span><span style=\"color: #00af00; text-decoration-color: #00af00\">31,694</span> (123.81 KB)\n",
              "</pre>\n"
            ]
          },
          "metadata": {}
        },
        {
          "output_type": "display_data",
          "data": {
            "text/plain": [
              "\u001b[1m Trainable params: \u001b[0m\u001b[38;5;34m10,564\u001b[0m (41.27 KB)\n"
            ],
            "text/html": [
              "<pre style=\"white-space:pre;overflow-x:auto;line-height:normal;font-family:Menlo,'DejaVu Sans Mono',consolas,'Courier New',monospace\"><span style=\"font-weight: bold\"> Trainable params: </span><span style=\"color: #00af00; text-decoration-color: #00af00\">10,564</span> (41.27 KB)\n",
              "</pre>\n"
            ]
          },
          "metadata": {}
        },
        {
          "output_type": "display_data",
          "data": {
            "text/plain": [
              "\u001b[1m Non-trainable params: \u001b[0m\u001b[38;5;34m0\u001b[0m (0.00 B)\n"
            ],
            "text/html": [
              "<pre style=\"white-space:pre;overflow-x:auto;line-height:normal;font-family:Menlo,'DejaVu Sans Mono',consolas,'Courier New',monospace\"><span style=\"font-weight: bold\"> Non-trainable params: </span><span style=\"color: #00af00; text-decoration-color: #00af00\">0</span> (0.00 B)\n",
              "</pre>\n"
            ]
          },
          "metadata": {}
        },
        {
          "output_type": "display_data",
          "data": {
            "text/plain": [
              "\u001b[1m Optimizer params: \u001b[0m\u001b[38;5;34m21,130\u001b[0m (82.54 KB)\n"
            ],
            "text/html": [
              "<pre style=\"white-space:pre;overflow-x:auto;line-height:normal;font-family:Menlo,'DejaVu Sans Mono',consolas,'Courier New',monospace\"><span style=\"font-weight: bold\"> Optimizer params: </span><span style=\"color: #00af00; text-decoration-color: #00af00\">21,130</span> (82.54 KB)\n",
              "</pre>\n"
            ]
          },
          "metadata": {}
        }
      ]
    },
    {
      "cell_type": "code",
      "source": [
        "!pip install pytorch-tabnet"
      ],
      "metadata": {
        "colab": {
          "base_uri": "https://localhost:8080/"
        },
        "id": "zTGaqw6UthOn",
        "outputId": "797b343b-bc37-4248-9abe-e6d1a8617e44"
      },
      "execution_count": 13,
      "outputs": [
        {
          "output_type": "stream",
          "name": "stdout",
          "text": [
            "Collecting pytorch-tabnet\n",
            "  Downloading pytorch_tabnet-4.1.0-py3-none-any.whl.metadata (15 kB)\n",
            "Requirement already satisfied: numpy>=1.17 in /usr/local/lib/python3.10/dist-packages (from pytorch-tabnet) (1.26.4)\n",
            "Requirement already satisfied: scikit_learn>0.21 in /usr/local/lib/python3.10/dist-packages (from pytorch-tabnet) (1.5.2)\n",
            "Requirement already satisfied: scipy>1.4 in /usr/local/lib/python3.10/dist-packages (from pytorch-tabnet) (1.13.1)\n",
            "Requirement already satisfied: torch>=1.3 in /usr/local/lib/python3.10/dist-packages (from pytorch-tabnet) (2.5.0+cu121)\n",
            "Requirement already satisfied: tqdm>=4.36 in /usr/local/lib/python3.10/dist-packages (from pytorch-tabnet) (4.66.5)\n",
            "Requirement already satisfied: joblib>=1.2.0 in /usr/local/lib/python3.10/dist-packages (from scikit_learn>0.21->pytorch-tabnet) (1.4.2)\n",
            "Requirement already satisfied: threadpoolctl>=3.1.0 in /usr/local/lib/python3.10/dist-packages (from scikit_learn>0.21->pytorch-tabnet) (3.5.0)\n",
            "Requirement already satisfied: filelock in /usr/local/lib/python3.10/dist-packages (from torch>=1.3->pytorch-tabnet) (3.16.1)\n",
            "Requirement already satisfied: typing-extensions>=4.8.0 in /usr/local/lib/python3.10/dist-packages (from torch>=1.3->pytorch-tabnet) (4.12.2)\n",
            "Requirement already satisfied: networkx in /usr/local/lib/python3.10/dist-packages (from torch>=1.3->pytorch-tabnet) (3.4.2)\n",
            "Requirement already satisfied: jinja2 in /usr/local/lib/python3.10/dist-packages (from torch>=1.3->pytorch-tabnet) (3.1.4)\n",
            "Requirement already satisfied: fsspec in /usr/local/lib/python3.10/dist-packages (from torch>=1.3->pytorch-tabnet) (2024.6.1)\n",
            "Requirement already satisfied: sympy==1.13.1 in /usr/local/lib/python3.10/dist-packages (from torch>=1.3->pytorch-tabnet) (1.13.1)\n",
            "Requirement already satisfied: mpmath<1.4,>=1.1.0 in /usr/local/lib/python3.10/dist-packages (from sympy==1.13.1->torch>=1.3->pytorch-tabnet) (1.3.0)\n",
            "Requirement already satisfied: MarkupSafe>=2.0 in /usr/local/lib/python3.10/dist-packages (from jinja2->torch>=1.3->pytorch-tabnet) (3.0.2)\n",
            "Downloading pytorch_tabnet-4.1.0-py3-none-any.whl (44 kB)\n",
            "\u001b[?25l   \u001b[90m━━━━━━━━━━━━━━━━━━━━━━━━━━━━━━━━━━━━━━━━\u001b[0m \u001b[32m0.0/44.5 kB\u001b[0m \u001b[31m?\u001b[0m eta \u001b[36m-:--:--\u001b[0m\r\u001b[2K   \u001b[90m━━━━━━━━━━━━━━━━━━━━━━━━━━━━━━━━━━━━━━━━\u001b[0m \u001b[32m44.5/44.5 kB\u001b[0m \u001b[31m4.2 MB/s\u001b[0m eta \u001b[36m0:00:00\u001b[0m\n",
            "\u001b[?25hInstalling collected packages: pytorch-tabnet\n",
            "Successfully installed pytorch-tabnet-4.1.0\n"
          ]
        }
      ]
    },
    {
      "cell_type": "code",
      "source": [
        "from pytorch_tabnet.tab_model import TabNetClassifier\n",
        "from sklearn.metrics import accuracy_score\n",
        "\n",
        "tabnet_model = TabNetClassifier()\n",
        "\n",
        "tabnet_model.fit(X_train.values, y_train.values,\n",
        "                 max_epochs=100,\n",
        "                 patience=10,\n",
        "                 batch_size=1024,\n",
        "                 virtual_batch_size=128,\n",
        "                 num_workers=0,\n",
        "                 drop_last=False)\n",
        "\n",
        "y_pred_tabnet = tabnet_model.predict(X_test.values)\n",
        "\n",
        "print(f\"TabNet Accuracy: {accuracy_score(y_test, y_pred_tabnet)}\")"
      ],
      "metadata": {
        "colab": {
          "base_uri": "https://localhost:8080/"
        },
        "id": "Lk9Ps9umtzcA",
        "outputId": "1ebb5b62-6969-4225-91a2-75a14cbeb12f"
      },
      "execution_count": 14,
      "outputs": [
        {
          "output_type": "stream",
          "name": "stdout",
          "text": [
            "epoch 0  | loss: 0.9369  |  0:00:03s\n",
            "epoch 1  | loss: 0.23586 |  0:00:09s\n",
            "epoch 2  | loss: 0.16815 |  0:00:16s\n",
            "epoch 3  | loss: 0.18545 |  0:00:19s\n",
            "epoch 4  | loss: 0.14111 |  0:00:24s\n",
            "epoch 5  | loss: 0.13546 |  0:00:28s\n",
            "epoch 6  | loss: 0.13685 |  0:00:30s\n",
            "epoch 7  | loss: 0.13193 |  0:00:32s\n",
            "epoch 8  | loss: 0.1192  |  0:00:34s\n",
            "epoch 9  | loss: 0.12176 |  0:00:35s\n",
            "epoch 10 | loss: 0.13287 |  0:00:37s\n",
            "epoch 11 | loss: 0.11713 |  0:00:39s\n",
            "epoch 12 | loss: 0.10921 |  0:00:41s\n",
            "epoch 13 | loss: 0.12401 |  0:00:42s\n",
            "epoch 14 | loss: 0.11624 |  0:00:44s\n",
            "epoch 15 | loss: 0.12079 |  0:00:45s\n",
            "epoch 16 | loss: 0.13533 |  0:00:47s\n",
            "epoch 17 | loss: 0.10477 |  0:00:48s\n",
            "epoch 18 | loss: 0.11522 |  0:00:51s\n",
            "epoch 19 | loss: 0.09552 |  0:00:52s\n",
            "epoch 20 | loss: 0.09913 |  0:00:54s\n",
            "epoch 21 | loss: 0.10336 |  0:00:55s\n",
            "epoch 22 | loss: 0.11379 |  0:00:57s\n",
            "epoch 23 | loss: 0.09909 |  0:00:58s\n",
            "epoch 24 | loss: 0.10058 |  0:01:00s\n",
            "epoch 25 | loss: 0.09714 |  0:01:02s\n",
            "epoch 26 | loss: 0.09299 |  0:01:04s\n",
            "epoch 27 | loss: 0.10505 |  0:01:06s\n",
            "epoch 28 | loss: 0.09299 |  0:01:07s\n",
            "epoch 29 | loss: 0.11192 |  0:01:09s\n",
            "epoch 30 | loss: 0.09598 |  0:01:10s\n",
            "epoch 31 | loss: 0.09826 |  0:01:12s\n",
            "epoch 32 | loss: 0.09761 |  0:01:13s\n",
            "epoch 33 | loss: 0.09005 |  0:01:15s\n",
            "epoch 34 | loss: 0.09942 |  0:01:17s\n",
            "epoch 35 | loss: 0.09742 |  0:01:19s\n",
            "epoch 36 | loss: 0.09304 |  0:01:21s\n",
            "epoch 37 | loss: 0.08784 |  0:01:22s\n",
            "epoch 38 | loss: 0.07775 |  0:01:24s\n",
            "epoch 39 | loss: 0.08529 |  0:01:25s\n",
            "epoch 40 | loss: 0.08593 |  0:01:30s\n",
            "epoch 41 | loss: 0.08791 |  0:01:32s\n",
            "epoch 42 | loss: 0.10317 |  0:01:33s\n",
            "epoch 43 | loss: 0.10208 |  0:01:35s\n",
            "epoch 44 | loss: 0.09302 |  0:01:37s\n",
            "epoch 45 | loss: 0.10235 |  0:01:38s\n",
            "epoch 46 | loss: 0.09037 |  0:01:40s\n",
            "epoch 47 | loss: 0.0783  |  0:01:42s\n",
            "epoch 48 | loss: 0.0782  |  0:01:44s\n",
            "epoch 49 | loss: 0.08777 |  0:01:45s\n",
            "epoch 50 | loss: 0.08496 |  0:01:47s\n",
            "epoch 51 | loss: 0.08441 |  0:01:48s\n",
            "epoch 52 | loss: 0.08898 |  0:01:50s\n",
            "epoch 53 | loss: 0.0921  |  0:01:51s\n",
            "epoch 54 | loss: 0.09617 |  0:01:53s\n",
            "epoch 55 | loss: 0.08454 |  0:01:55s\n",
            "epoch 56 | loss: 0.09094 |  0:01:57s\n",
            "epoch 57 | loss: 0.09326 |  0:01:58s\n",
            "epoch 58 | loss: 0.08755 |  0:02:00s\n",
            "epoch 59 | loss: 0.09674 |  0:02:02s\n",
            "epoch 60 | loss: 0.07816 |  0:02:03s\n",
            "epoch 61 | loss: 0.09346 |  0:02:05s\n",
            "epoch 62 | loss: 0.09461 |  0:02:07s\n",
            "epoch 63 | loss: 0.08482 |  0:02:09s\n",
            "epoch 64 | loss: 0.07221 |  0:02:10s\n",
            "epoch 65 | loss: 0.07525 |  0:02:12s\n",
            "epoch 66 | loss: 0.09303 |  0:02:13s\n",
            "epoch 67 | loss: 0.08312 |  0:02:15s\n",
            "epoch 68 | loss: 0.10308 |  0:02:16s\n",
            "epoch 69 | loss: 0.08878 |  0:02:18s\n",
            "epoch 70 | loss: 0.08083 |  0:02:20s\n",
            "epoch 71 | loss: 0.07057 |  0:02:22s\n",
            "epoch 72 | loss: 0.08772 |  0:02:23s\n",
            "epoch 73 | loss: 0.07642 |  0:02:25s\n",
            "epoch 74 | loss: 0.07086 |  0:02:27s\n",
            "epoch 75 | loss: 0.09421 |  0:02:28s\n",
            "epoch 76 | loss: 0.08538 |  0:02:30s\n",
            "epoch 77 | loss: 0.08145 |  0:02:32s\n",
            "epoch 78 | loss: 0.07379 |  0:02:34s\n",
            "epoch 79 | loss: 0.0852  |  0:02:36s\n",
            "epoch 80 | loss: 0.08559 |  0:02:37s\n",
            "epoch 81 | loss: 0.07331 |  0:02:39s\n",
            "epoch 82 | loss: 0.06961 |  0:02:40s\n",
            "epoch 83 | loss: 0.07726 |  0:02:42s\n",
            "epoch 84 | loss: 0.06704 |  0:02:43s\n",
            "epoch 85 | loss: 0.07545 |  0:02:46s\n",
            "epoch 86 | loss: 0.07354 |  0:02:47s\n",
            "epoch 87 | loss: 0.09334 |  0:02:49s\n",
            "epoch 88 | loss: 0.10153 |  0:02:50s\n",
            "epoch 89 | loss: 0.07961 |  0:02:52s\n",
            "epoch 90 | loss: 0.07196 |  0:02:54s\n",
            "epoch 91 | loss: 0.11073 |  0:02:55s\n",
            "epoch 92 | loss: 0.08156 |  0:02:57s\n",
            "epoch 93 | loss: 0.08121 |  0:02:59s\n",
            "epoch 94 | loss: 0.08571 |  0:03:01s\n",
            "epoch 95 | loss: 0.08363 |  0:03:02s\n",
            "epoch 96 | loss: 0.07198 |  0:03:04s\n",
            "epoch 97 | loss: 0.08784 |  0:03:05s\n",
            "epoch 98 | loss: 0.0808  |  0:03:07s\n",
            "epoch 99 | loss: 0.07522 |  0:03:08s\n",
            "TabNet Accuracy: 0.9937682179113478\n"
          ]
        }
      ]
    },
    {
      "cell_type": "code",
      "source": [
        "import matplotlib.pyplot as plt\n",
        "import pandas as pd\n",
        "\n",
        "model_results = {\n",
        "    'Logistic Regression': accuracy_score(y_test, y_pred_log_reg),\n",
        "    'Random Forest': accuracy_score(y_test, y_pred_rf),\n",
        "    'SVM': accuracy_score(y_test, y_pred_svm),\n",
        "    'XGBoost': accuracy_score(y_test, y_pred_xgb),\n",
        "    'Deep Learning Model': accuracy_score(y_test, np.argmax(model.predict(X_test), axis=1)),\n",
        "    'TabNet': accuracy_score(y_test, y_pred_tabnet)\n",
        "}\n",
        "\n",
        "results_df = pd.DataFrame.from_dict(model_results, orient='index', columns=['Accuracy'])\n",
        "print(\"Model Comparison:\")\n",
        "print(results_df)\n",
        "\n",
        "plt.figure(figsize=(12, 4))\n",
        "plt.subplot(1, 2, 1)\n",
        "plt.plot(history.history['accuracy'])\n",
        "plt.plot(history.history['val_accuracy'])\n",
        "plt.title('Model Accuracy')\n",
        "plt.xlabel('Epoch')\n",
        "plt.ylabel('Accuracy')\n",
        "plt.legend(['Train', 'Validation'], loc='upper left')\n",
        "\n",
        "# Plot loss over epochs\n",
        "plt.subplot(1, 2, 2)\n",
        "plt.plot(history.history['loss'])\n",
        "plt.plot(history.history['val_loss'])\n",
        "plt.title('Model Loss')\n",
        "plt.xlabel('Epoch')\n",
        "plt.ylabel('Loss')\n",
        "plt.legend(['Train', 'Validation'], loc='upper left')\n",
        "plt.tight_layout()\n",
        "plt.show()"
      ],
      "metadata": {
        "colab": {
          "base_uri": "https://localhost:8080/",
          "height": 550
        },
        "id": "S_Hzb6xvt3UC",
        "outputId": "c8899535-7c97-4a33-c0e3-e1a1dc686ade"
      },
      "execution_count": 15,
      "outputs": [
        {
          "output_type": "stream",
          "name": "stdout",
          "text": [
            "\u001b[1m311/311\u001b[0m \u001b[32m━━━━━━━━━━━━━━━━━━━━\u001b[0m\u001b[37m\u001b[0m \u001b[1m1s\u001b[0m 3ms/step\n",
            "Model Comparison:\n",
            "                     Accuracy\n",
            "Logistic Regression  0.896673\n",
            "Random Forest        1.000000\n",
            "SVM                  0.998191\n",
            "XGBoost              0.997487\n",
            "Deep Learning Model  0.994673\n",
            "TabNet               0.993768\n"
          ]
        },
        {
          "output_type": "display_data",
          "data": {
            "text/plain": [
              "<Figure size 1200x400 with 2 Axes>"
            ],
            "image/png": "[encoded data removed]"
          },
          "metadata": {}
        }
      ]
    },
    {
      "cell_type": "code",
      "source": [],
      "metadata": {
        "id": "tO0wvJRLupkh"
      },
      "execution_count": 15,
      "outputs": []
    }
  ]
}