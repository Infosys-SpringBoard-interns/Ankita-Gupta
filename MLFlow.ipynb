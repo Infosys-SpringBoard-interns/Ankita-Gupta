{
  "nbformat": 4,
  "nbformat_minor": 0,
  "metadata": {
    "colab": {
      "provenance": []
    },
    "kernelspec": {
      "name": "python3",
      "display_name": "Python 3"
    },
    "language_info": {
      "name": "python"
    }
  },
  "cells": [
    {
      "cell_type": "code",
      "execution_count": null,
      "metadata": {
        "colab": {
          "base_uri": "https://localhost:8080/"
        },
        "id": "U6-WcOwpvdN0",
        "outputId": "66b8ce00-a021-4883-992d-c33e596417a8"
      },
      "outputs": [
        {
          "output_type": "stream",
          "name": "stdout",
          "text": [
            "\u001b[2K   \u001b[90m━━━━━━━━━━━━━━━━━━━━━━━━━━━━━━━━━━━━━━━━\u001b[0m \u001b[32m26.7/26.7 MB\u001b[0m \u001b[31m60.2 MB/s\u001b[0m eta \u001b[36m0:00:00\u001b[0m\n",
            "\u001b[2K   \u001b[90m━━━━━━━━━━━━━━━━━━━━━━━━━━━━━━━━━━━━━━━━\u001b[0m \u001b[32m5.7/5.7 MB\u001b[0m \u001b[31m69.0 MB/s\u001b[0m eta \u001b[36m0:00:00\u001b[0m\n",
            "\u001b[2K   \u001b[90m━━━━━━━━━━━━━━━━━━━━━━━━━━━━━━━━━━━━━━━━\u001b[0m \u001b[32m233.5/233.5 kB\u001b[0m \u001b[31m13.4 MB/s\u001b[0m eta \u001b[36m0:00:00\u001b[0m\n",
            "\u001b[2K   \u001b[90m━━━━━━━━━━━━━━━━━━━━━━━━━━━━━━━━━━━━━━━━\u001b[0m \u001b[32m147.8/147.8 kB\u001b[0m \u001b[31m9.2 MB/s\u001b[0m eta \u001b[36m0:00:00\u001b[0m\n",
            "\u001b[2K   \u001b[90m━━━━━━━━━━━━━━━━━━━━━━━━━━━━━━━━━━━━━━━━\u001b[0m \u001b[32m114.7/114.7 kB\u001b[0m \u001b[31m7.1 MB/s\u001b[0m eta \u001b[36m0:00:00\u001b[0m\n",
            "\u001b[2K   \u001b[90m━━━━━━━━━━━━━━━━━━━━━━━━━━━━━━━━━━━━━━━━\u001b[0m \u001b[32m85.0/85.0 kB\u001b[0m \u001b[31m4.6 MB/s\u001b[0m eta \u001b[36m0:00:00\u001b[0m\n",
            "\u001b[2K   \u001b[90m━━━━━━━━━━━━━━━━━━━━━━━━━━━━━━━━━━━━━━━━\u001b[0m \u001b[32m569.1/569.1 kB\u001b[0m \u001b[31m24.0 MB/s\u001b[0m eta \u001b[36m0:00:00\u001b[0m\n",
            "\u001b[2K   \u001b[90m━━━━━━━━━━━━━━━━━━━━━━━━━━━━━━━━━━━━━━━━\u001b[0m \u001b[32m203.2/203.2 kB\u001b[0m \u001b[31m11.7 MB/s\u001b[0m eta \u001b[36m0:00:00\u001b[0m\n",
            "\u001b[2K   \u001b[90m━━━━━━━━━━━━━━━━━━━━━━━━━━━━━━━━━━━━━━━━\u001b[0m \u001b[32m78.6/78.6 kB\u001b[0m \u001b[31m5.8 MB/s\u001b[0m eta \u001b[36m0:00:00\u001b[0m\n",
            "\u001b[?25h"
          ]
        }
      ],
      "source": [
        "!pip install mlflow --quiet"
      ]
    },
    {
      "cell_type": "code",
      "source": [
        "!mlflow"
      ],
      "metadata": {
        "colab": {
          "base_uri": "https://localhost:8080/"
        },
        "id": "WeusGhqyv6cJ",
        "outputId": "be893d10-80d9-428b-c8ec-245e5a0520bb"
      },
      "execution_count": null,
      "outputs": [
        {
          "output_type": "stream",
          "name": "stdout",
          "text": [
            "Usage: mlflow [OPTIONS] COMMAND [ARGS]...\n",
            "\n",
            "Options:\n",
            "  --version  Show the version and exit.\n",
            "  --help     Show this message and exit.\n",
            "\n",
            "Commands:\n",
            "  artifacts    Upload, list, and download artifacts from an MLflow...\n",
            "  db           Commands for managing an MLflow tracking database.\n",
            "  deployments  Deploy MLflow models to custom targets.\n",
            "  doctor       Prints out useful information for debugging issues with MLflow.\n",
            "  experiments  Manage experiments.\n",
            "  gc           Permanently delete runs in the `deleted` lifecycle stage.\n",
            "  models       Deploy MLflow models locally.\n",
            "  recipes      Run MLflow Recipes and inspect recipe results.\n",
            "  run          Run an MLflow project from the given URI.\n",
            "  runs         Manage runs.\n",
            "  sagemaker    Serve models on SageMaker.\n",
            "  server       Run the MLflow tracking server.\n"
          ]
        }
      ]
    },
    {
      "cell_type": "code",
      "source": [
        "import mlflow\n",
        "import mlflow.sklearn\n",
        "import numpy as np\n",
        "import pandas as pd\n",
        "import seaborn as sns\n",
        "import matplotlib.pyplot as plt\n",
        "from sklearn.model_selection import train_test_split\n",
        "from sklearn.preprocessing import LabelEncoder, StandardScaler\n",
        "from sklearn.metrics import accuracy_score, classification_report, confusion_matrix, ConfusionMatrixDisplay\n",
        "from sklearn.utils.class_weight import compute_class_weight\n",
        "from sklearn.linear_model import LogisticRegression\n",
        "from sklearn.ensemble import RandomForestClassifier\n",
        "from sklearn.svm import SVC\n",
        "from xgboost import XGBClassifier\n",
        "\n",
        "import warnings\n",
        "warnings.filterwarnings('ignore')"
      ],
      "metadata": {
        "id": "eNhdcdASwAvh"
      },
      "execution_count": null,
      "outputs": []
    },
    {
      "cell_type": "code",
      "source": [
        "mlflow.set_tracking_uri(\"file:////content/drive/MyDrive/mlruns_new\")"
      ],
      "metadata": {
        "id": "9bmKunYkwE-D"
      },
      "execution_count": null,
      "outputs": []
    },
    {
      "cell_type": "code",
      "source": [
        "mlflow.set_experiment(\"logistic\")"
      ],
      "metadata": {
        "colab": {
          "base_uri": "https://localhost:8080/"
        },
        "id": "Z3Dlqic-xFqJ",
        "outputId": "3557871f-a6f5-4c48-8efc-f85134186ebc"
      },
      "execution_count": null,
      "outputs": [
        {
          "output_type": "execute_result",
          "data": {
            "text/plain": [
              "<Experiment: artifact_location='file://content/drive/MyDrive/mlruns_new/835408792279618950', creation_time=1730716931717, experiment_id='835408792279618950', last_update_time=1730716931717, lifecycle_stage='active', name='logistic', tags={}>"
            ]
          },
          "metadata": {},
          "execution_count": 5
        }
      ]
    },
    {
      "cell_type": "code",
      "source": [
        "df = pd.read_csv(\"/content/obesity_data_with_status_50000.csv\")\n",
        "df.head()"
      ],
      "metadata": {
        "colab": {
          "base_uri": "https://localhost:8080/",
          "height": 243
        },
        "id": "9UQfSFl-xI4K",
        "outputId": "b3163d15-2cbe-475a-e1b4-6e8911c1b8bc"
      },
      "execution_count": null,
      "outputs": [
        {
          "output_type": "execute_result",
          "data": {
            "text/plain": [
              "   Age  Gender   Height_cm  Weight_kg        BMI  Physical_Activity_Level  \\\n",
              "0   56       0  172.005936  68.686179  23.215738                        4   \n",
              "1   69       1  161.678497  79.937723  30.580688                        2   \n",
              "2   46       1  172.078597  99.707918  33.672545                        4   \n",
              "3   32       1  176.845709  76.314302  24.401520                        1   \n",
              "4   60       1  170.875161  84.397860  28.905039                        2   \n",
              "\n",
              "   Diet_Type  Smoking_Habits  Alcohol_Consumption  Family_History_Obesity  \\\n",
              "0          1               2                    0                       1   \n",
              "1          0               0                    0                       0   \n",
              "2          1               1                    1                       0   \n",
              "3          2               0                    1                       0   \n",
              "4          1               0                    2                       1   \n",
              "\n",
              "         Blood_Pressure  Cholesterol_Levels  Education_Level  Income_Level  \\\n",
              "0  Hypertension Stage 2                   2                1             3   \n",
              "1              Elevated                   1                2             1   \n",
              "2                Normal                   3                2             3   \n",
              "3                Normal                   3                1             2   \n",
              "4              Elevated                   2                3             3   \n",
              "\n",
              "   Geographical_Region Obesity_Status  \n",
              "0                    2  Normal weight  \n",
              "1                    3          Obese  \n",
              "2                    2          Obese  \n",
              "3                    1  Normal weight  \n",
              "4                    2     Overweight  "
            ],
            "text/html": [
              "\n",
              "  <div id=\"df-38f2bf25-ef53-421a-8cd7-e7723094d969\" class=\"colab-df-container\">\n",
              "    <div>\n",
              "<style scoped>\n",
              "    .dataframe tbody tr th:only-of-type {\n",
              "        vertical-align: middle;\n",
              "    }\n",
              "\n",
              "    .dataframe tbody tr th {\n",
              "        vertical-align: top;\n",
              "    }\n",
              "\n",
              "    .dataframe thead th {\n",
              "        text-align: right;\n",
              "    }\n",
              "</style>\n",
              "<table border=\"1\" class=\"dataframe\">\n",
              "  <thead>\n",
              "    <tr style=\"text-align: right;\">\n",
              "      <th></th>\n",
              "      <th>Age</th>\n",
              "      <th>Gender</th>\n",
              "      <th>Height_cm</th>\n",
              "      <th>Weight_kg</th>\n",
              "      <th>BMI</th>\n",
              "      <th>Physical_Activity_Level</th>\n",
              "      <th>Diet_Type</th>\n",
              "      <th>Smoking_Habits</th>\n",
              "      <th>Alcohol_Consumption</th>\n",
              "      <th>Family_History_Obesity</th>\n",
              "      <th>Blood_Pressure</th>\n",
              "      <th>Cholesterol_Levels</th>\n",
              "      <th>Education_Level</th>\n",
              "      <th>Income_Level</th>\n",
              "      <th>Geographical_Region</th>\n",
              "      <th>Obesity_Status</th>\n",
              "    </tr>\n",
              "  </thead>\n",
              "  <tbody>\n",
              "    <tr>\n",
              "      <th>0</th>\n",
              "      <td>56</td>\n",
              "      <td>0</td>\n",
              "      <td>172.005936</td>\n",
              "      <td>68.686179</td>\n",
              "      <td>23.215738</td>\n",
              "      <td>4</td>\n",
              "      <td>1</td>\n",
              "      <td>2</td>\n",
              "      <td>0</td>\n",
              "      <td>1</td>\n",
              "      <td>Hypertension Stage 2</td>\n",
              "      <td>2</td>\n",
              "      <td>1</td>\n",
              "      <td>3</td>\n",
              "      <td>2</td>\n",
              "      <td>Normal weight</td>\n",
              "    </tr>\n",
              "    <tr>\n",
              "      <th>1</th>\n",
              "      <td>69</td>\n",
              "      <td>1</td>\n",
              "      <td>161.678497</td>\n",
              "      <td>79.937723</td>\n",
              "      <td>30.580688</td>\n",
              "      <td>2</td>\n",
              "      <td>0</td>\n",
              "      <td>0</td>\n",
              "      <td>0</td>\n",
              "      <td>0</td>\n",
              "      <td>Elevated</td>\n",
              "      <td>1</td>\n",
              "      <td>2</td>\n",
              "      <td>1</td>\n",
              "      <td>3</td>\n",
              "      <td>Obese</td>\n",
              "    </tr>\n",
              "    <tr>\n",
              "      <th>2</th>\n",
              "      <td>46</td>\n",
              "      <td>1</td>\n",
              "      <td>172.078597</td>\n",
              "      <td>99.707918</td>\n",
              "      <td>33.672545</td>\n",
              "      <td>4</td>\n",
              "      <td>1</td>\n",
              "      <td>1</td>\n",
              "      <td>1</td>\n",
              "      <td>0</td>\n",
              "      <td>Normal</td>\n",
              "      <td>3</td>\n",
              "      <td>2</td>\n",
              "      <td>3</td>\n",
              "      <td>2</td>\n",
              "      <td>Obese</td>\n",
              "    </tr>\n",
              "    <tr>\n",
              "      <th>3</th>\n",
              "      <td>32</td>\n",
              "      <td>1</td>\n",
              "      <td>176.845709</td>\n",
              "      <td>76.314302</td>\n",
              "      <td>24.401520</td>\n",
              "      <td>1</td>\n",
              "      <td>2</td>\n",
              "      <td>0</td>\n",
              "      <td>1</td>\n",
              "      <td>0</td>\n",
              "      <td>Normal</td>\n",
              "      <td>3</td>\n",
              "      <td>1</td>\n",
              "      <td>2</td>\n",
              "      <td>1</td>\n",
              "      <td>Normal weight</td>\n",
              "    </tr>\n",
              "    <tr>\n",
              "      <th>4</th>\n",
              "      <td>60</td>\n",
              "      <td>1</td>\n",
              "      <td>170.875161</td>\n",
              "      <td>84.397860</td>\n",
              "      <td>28.905039</td>\n",
              "      <td>2</td>\n",
              "      <td>1</td>\n",
              "      <td>0</td>\n",
              "      <td>2</td>\n",
              "      <td>1</td>\n",
              "      <td>Elevated</td>\n",
              "      <td>2</td>\n",
              "      <td>3</td>\n",
              "      <td>3</td>\n",
              "      <td>2</td>\n",
              "      <td>Overweight</td>\n",
              "    </tr>\n",
              "  </tbody>\n",
              "</table>\n",
              "</div>\n",
              "    <div class=\"colab-df-buttons\">\n",
              "\n",
              "  <div class=\"colab-df-container\">\n",
              "    <button class=\"colab-df-convert\" onclick=\"convertToInteractive('df-38f2bf25-ef53-421a-8cd7-e7723094d969')\"\n",
              "            title=\"Convert this dataframe to an interactive table.\"\n",
              "            style=\"display:none;\">\n",
              "\n",
              "  <svg xmlns=\"http://www.w3.org/2000/svg\" height=\"24px\" viewBox=\"0 -960 960 960\">\n",
              "    <path d=\"M120-120v-720h720v720H120Zm60-500h600v-160H180v160Zm220 220h160v-160H400v160Zm0 220h160v-160H400v160ZM180-400h160v-160H180v160Zm440 0h160v-160H620v160ZM180-180h160v-160H180v160Zm440 0h160v-160H620v160Z\"/>\n",
              "  </svg>\n",
              "    </button>\n",
              "\n",
              "  <style>\n",
              "    .colab-df-container {\n",
              "      display:flex;\n",
              "      gap: 12px;\n",
              "    }\n",
              "\n",
              "    .colab-df-convert {\n",
              "      background-color: #E8F0FE;\n",
              "      border: none;\n",
              "      border-radius: 50%;\n",
              "      cursor: pointer;\n",
              "      display: none;\n",
              "      fill: #1967D2;\n",
              "      height: 32px;\n",
              "      padding: 0 0 0 0;\n",
              "      width: 32px;\n",
              "    }\n",
              "\n",
              "    .colab-df-convert:hover {\n",
              "      background-color: #E2EBFA;\n",
              "      box-shadow: 0px 1px 2px rgba(60, 64, 67, 0.3), 0px 1px 3px 1px rgba(60, 64, 67, 0.15);\n",
              "      fill: #174EA6;\n",
              "    }\n",
              "\n",
              "    .colab-df-buttons div {\n",
              "      margin-bottom: 4px;\n",
              "    }\n",
              "\n",
              "    [theme=dark] .colab-df-convert {\n",
              "      background-color: #3B4455;\n",
              "      fill: #D2E3FC;\n",
              "    }\n",
              "\n",
              "    [theme=dark] .colab-df-convert:hover {\n",
              "      background-color: #434B5C;\n",
              "      box-shadow: 0px 1px 3px 1px rgba(0, 0, 0, 0.15);\n",
              "      filter: drop-shadow(0px 1px 2px rgba(0, 0, 0, 0.3));\n",
              "      fill: #FFFFFF;\n",
              "    }\n",
              "  </style>\n",
              "\n",
              "    <script>\n",
              "      const buttonEl =\n",
              "        document.querySelector('#df-38f2bf25-ef53-421a-8cd7-e7723094d969 button.colab-df-convert');\n",
              "      buttonEl.style.display =\n",
              "        google.colab.kernel.accessAllowed ? 'block' : 'none';\n",
              "\n",
              "      async function convertToInteractive(key) {\n",
              "        const element = document.querySelector('#df-38f2bf25-ef53-421a-8cd7-e7723094d969');\n",
              "        const dataTable =\n",
              "          await google.colab.kernel.invokeFunction('convertToInteractive',\n",
              "                                                    [key], {});\n",
              "        if (!dataTable) return;\n",
              "\n",
              "        const docLinkHtml = 'Like what you see? Visit the ' +\n",
              "          '<a target=\"_blank\" href=https://colab.research.google.com/notebooks/data_table.ipynb>data table notebook</a>'\n",
              "          + ' to learn more about interactive tables.';\n",
              "        element.innerHTML = '';\n",
              "        dataTable['output_type'] = 'display_data';\n",
              "        await google.colab.output.renderOutput(dataTable, element);\n",
              "        const docLink = document.createElement('div');\n",
              "        docLink.innerHTML = docLinkHtml;\n",
              "        element.appendChild(docLink);\n",
              "      }\n",
              "    </script>\n",
              "  </div>\n",
              "\n",
              "\n",
              "<div id=\"df-85fc487f-c8be-46ce-a68f-ff5e28f77035\">\n",
              "  <button class=\"colab-df-quickchart\" onclick=\"quickchart('df-85fc487f-c8be-46ce-a68f-ff5e28f77035')\"\n",
              "            title=\"Suggest charts\"\n",
              "            style=\"display:none;\">\n",
              "\n",
              "<svg xmlns=\"http://www.w3.org/2000/svg\" height=\"24px\"viewBox=\"0 0 24 24\"\n",
              "     width=\"24px\">\n",
              "    <g>\n",
              "        <path d=\"M19 3H5c-1.1 0-2 .9-2 2v14c0 1.1.9 2 2 2h14c1.1 0 2-.9 2-2V5c0-1.1-.9-2-2-2zM9 17H7v-7h2v7zm4 0h-2V7h2v10zm4 0h-2v-4h2v4z\"/>\n",
              "    </g>\n",
              "</svg>\n",
              "  </button>\n",
              "\n",
              "<style>\n",
              "  .colab-df-quickchart {\n",
              "      --bg-color: #E8F0FE;\n",
              "      --fill-color: #1967D2;\n",
              "      --hover-bg-color: #E2EBFA;\n",
              "      --hover-fill-color: #174EA6;\n",
              "      --disabled-fill-color: #AAA;\n",
              "      --disabled-bg-color: #DDD;\n",
              "  }\n",
              "\n",
              "  [theme=dark] .colab-df-quickchart {\n",
              "      --bg-color: #3B4455;\n",
              "      --fill-color: #D2E3FC;\n",
              "      --hover-bg-color: #434B5C;\n",
              "      --hover-fill-color: #FFFFFF;\n",
              "      --disabled-bg-color: #3B4455;\n",
              "      --disabled-fill-color: #666;\n",
              "  }\n",
              "\n",
              "  .colab-df-quickchart {\n",
              "    background-color: var(--bg-color);\n",
              "    border: none;\n",
              "    border-radius: 50%;\n",
              "    cursor: pointer;\n",
              "    display: none;\n",
              "    fill: var(--fill-color);\n",
              "    height: 32px;\n",
              "    padding: 0;\n",
              "    width: 32px;\n",
              "  }\n",
              "\n",
              "  .colab-df-quickchart:hover {\n",
              "    background-color: var(--hover-bg-color);\n",
              "    box-shadow: 0 1px 2px rgba(60, 64, 67, 0.3), 0 1px 3px 1px rgba(60, 64, 67, 0.15);\n",
              "    fill: var(--button-hover-fill-color);\n",
              "  }\n",
              "\n",
              "  .colab-df-quickchart-complete:disabled,\n",
              "  .colab-df-quickchart-complete:disabled:hover {\n",
              "    background-color: var(--disabled-bg-color);\n",
              "    fill: var(--disabled-fill-color);\n",
              "    box-shadow: none;\n",
              "  }\n",
              "\n",
              "  .colab-df-spinner {\n",
              "    border: 2px solid var(--fill-color);\n",
              "    border-color: transparent;\n",
              "    border-bottom-color: var(--fill-color);\n",
              "    animation:\n",
              "      spin 1s steps(1) infinite;\n",
              "  }\n",
              "\n",
              "  @keyframes spin {\n",
              "    0% {\n",
              "      border-color: transparent;\n",
              "      border-bottom-color: var(--fill-color);\n",
              "      border-left-color: var(--fill-color);\n",
              "    }\n",
              "    20% {\n",
              "      border-color: transparent;\n",
              "      border-left-color: var(--fill-color);\n",
              "      border-top-color: var(--fill-color);\n",
              "    }\n",
              "    30% {\n",
              "      border-color: transparent;\n",
              "      border-left-color: var(--fill-color);\n",
              "      border-top-color: var(--fill-color);\n",
              "      border-right-color: var(--fill-color);\n",
              "    }\n",
              "    40% {\n",
              "      border-color: transparent;\n",
              "      border-right-color: var(--fill-color);\n",
              "      border-top-color: var(--fill-color);\n",
              "    }\n",
              "    60% {\n",
              "      border-color: transparent;\n",
              "      border-right-color: var(--fill-color);\n",
              "    }\n",
              "    80% {\n",
              "      border-color: transparent;\n",
              "      border-right-color: var(--fill-color);\n",
              "      border-bottom-color: var(--fill-color);\n",
              "    }\n",
              "    90% {\n",
              "      border-color: transparent;\n",
              "      border-bottom-color: var(--fill-color);\n",
              "    }\n",
              "  }\n",
              "</style>\n",
              "\n",
              "  <script>\n",
              "    async function quickchart(key) {\n",
              "      const quickchartButtonEl =\n",
              "        document.querySelector('#' + key + ' button');\n",
              "      quickchartButtonEl.disabled = true;  // To prevent multiple clicks.\n",
              "      quickchartButtonEl.classList.add('colab-df-spinner');\n",
              "      try {\n",
              "        const charts = await google.colab.kernel.invokeFunction(\n",
              "            'suggestCharts', [key], {});\n",
              "      } catch (error) {\n",
              "        console.error('Error during call to suggestCharts:', error);\n",
              "      }\n",
              "      quickchartButtonEl.classList.remove('colab-df-spinner');\n",
              "      quickchartButtonEl.classList.add('colab-df-quickchart-complete');\n",
              "    }\n",
              "    (() => {\n",
              "      let quickchartButtonEl =\n",
              "        document.querySelector('#df-85fc487f-c8be-46ce-a68f-ff5e28f77035 button');\n",
              "      quickchartButtonEl.style.display =\n",
              "        google.colab.kernel.accessAllowed ? 'block' : 'none';\n",
              "    })();\n",
              "  </script>\n",
              "</div>\n",
              "\n",
              "    </div>\n",
              "  </div>\n"
            ],
            "application/vnd.google.colaboratory.intrinsic+json": {
              "type": "dataframe",
              "variable_name": "df",
              "summary": "{\n  \"name\": \"df\",\n  \"rows\": 50000,\n  \"fields\": [\n    {\n      \"column\": \"Age\",\n      \"properties\": {\n        \"dtype\": \"number\",\n        \"std\": 18,\n        \"min\": 18,\n        \"max\": 80,\n        \"num_unique_values\": 63,\n        \"samples\": [\n          73,\n          18,\n          56\n        ],\n        \"semantic_type\": \"\",\n        \"description\": \"\"\n      }\n    },\n    {\n      \"column\": \"Gender\",\n      \"properties\": {\n        \"dtype\": \"number\",\n        \"std\": 0,\n        \"min\": 0,\n        \"max\": 1,\n        \"num_unique_values\": 2,\n        \"samples\": [\n          1,\n          0\n        ],\n        \"semantic_type\": \"\",\n        \"description\": \"\"\n      }\n    },\n    {\n      \"column\": \"Height_cm\",\n      \"properties\": {\n        \"dtype\": \"number\",\n        \"std\": 10.016535761091927,\n        \"min\": 125.37031472919897,\n        \"max\": 208.29782171340852,\n        \"num_unique_values\": 50000,\n        \"samples\": [\n          171.95813427366127,\n          169.0577024368296\n        ],\n        \"semantic_type\": \"\",\n        \"description\": \"\"\n      }\n    },\n    {\n      \"column\": \"Weight_kg\",\n      \"properties\": {\n        \"dtype\": \"number\",\n        \"std\": 15.003174832804186,\n        \"min\": 15.010016264579228,\n        \"max\": 138.03038849649,\n        \"num_unique_values\": 50000,\n        \"samples\": [\n          62.166696971554686,\n          70.77593761425825\n        ],\n        \"semantic_type\": \"\",\n        \"description\": \"\"\n      }\n    },\n    {\n      \"column\": \"BMI\",\n      \"properties\": {\n        \"dtype\": \"number\",\n        \"std\": 6.132110420194827,\n        \"min\": 4.580646300400106,\n        \"max\": 56.83583071526518,\n        \"num_unique_values\": 50000,\n        \"samples\": [\n          21.02385459784578,\n          24.76370983390113\n        ],\n        \"semantic_type\": \"\",\n        \"description\": \"\"\n      }\n    },\n    {\n      \"column\": \"Physical_Activity_Level\",\n      \"properties\": {\n        \"dtype\": \"number\",\n        \"std\": 1,\n        \"min\": 1,\n        \"max\": 4,\n        \"num_unique_values\": 4,\n        \"samples\": [\n          2,\n          3\n        ],\n        \"semantic_type\": \"\",\n        \"description\": \"\"\n      }\n    },\n    {\n      \"column\": \"Diet_Type\",\n      \"properties\": {\n        \"dtype\": \"number\",\n        \"std\": 0,\n        \"min\": 0,\n        \"max\": 2,\n        \"num_unique_values\": 3,\n        \"samples\": [\n          1,\n          0\n        ],\n        \"semantic_type\": \"\",\n        \"description\": \"\"\n      }\n    },\n    {\n      \"column\": \"Smoking_Habits\",\n      \"properties\": {\n        \"dtype\": \"number\",\n        \"std\": 0,\n        \"min\": 0,\n        \"max\": 2,\n        \"num_unique_values\": 3,\n        \"samples\": [\n          2,\n          0\n        ],\n        \"semantic_type\": \"\",\n        \"description\": \"\"\n      }\n    },\n    {\n      \"column\": \"Alcohol_Consumption\",\n      \"properties\": {\n        \"dtype\": \"number\",\n        \"std\": 0,\n        \"min\": 0,\n        \"max\": 2,\n        \"num_unique_values\": 3,\n        \"samples\": [\n          0,\n          1\n        ],\n        \"semantic_type\": \"\",\n        \"description\": \"\"\n      }\n    },\n    {\n      \"column\": \"Family_History_Obesity\",\n      \"properties\": {\n        \"dtype\": \"number\",\n        \"std\": 0,\n        \"min\": 0,\n        \"max\": 1,\n        \"num_unique_values\": 2,\n        \"samples\": [\n          0,\n          1\n        ],\n        \"semantic_type\": \"\",\n        \"description\": \"\"\n      }\n    },\n    {\n      \"column\": \"Blood_Pressure\",\n      \"properties\": {\n        \"dtype\": \"category\",\n        \"num_unique_values\": 4,\n        \"samples\": [\n          \"Elevated\",\n          \"Hypertension Stage 1\"\n        ],\n        \"semantic_type\": \"\",\n        \"description\": \"\"\n      }\n    },\n    {\n      \"column\": \"Cholesterol_Levels\",\n      \"properties\": {\n        \"dtype\": \"number\",\n        \"std\": 0,\n        \"min\": 1,\n        \"max\": 3,\n        \"num_unique_values\": 3,\n        \"samples\": [\n          2,\n          1\n        ],\n        \"semantic_type\": \"\",\n        \"description\": \"\"\n      }\n    },\n    {\n      \"column\": \"Education_Level\",\n      \"properties\": {\n        \"dtype\": \"number\",\n        \"std\": 1,\n        \"min\": 1,\n        \"max\": 5,\n        \"num_unique_values\": 5,\n        \"samples\": [\n          2,\n          4\n        ],\n        \"semantic_type\": \"\",\n        \"description\": \"\"\n      }\n    },\n    {\n      \"column\": \"Income_Level\",\n      \"properties\": {\n        \"dtype\": \"number\",\n        \"std\": 0,\n        \"min\": 1,\n        \"max\": 3,\n        \"num_unique_values\": 3,\n        \"samples\": [\n          3,\n          1\n        ],\n        \"semantic_type\": \"\",\n        \"description\": \"\"\n      }\n    },\n    {\n      \"column\": \"Geographical_Region\",\n      \"properties\": {\n        \"dtype\": \"number\",\n        \"std\": 0,\n        \"min\": 1,\n        \"max\": 3,\n        \"num_unique_values\": 3,\n        \"samples\": [\n          2,\n          3\n        ],\n        \"semantic_type\": \"\",\n        \"description\": \"\"\n      }\n    },\n    {\n      \"column\": \"Obesity_Status\",\n      \"properties\": {\n        \"dtype\": \"category\",\n        \"num_unique_values\": 4,\n        \"samples\": [\n          \"Obese\",\n          \"Underweight\"\n        ],\n        \"semantic_type\": \"\",\n        \"description\": \"\"\n      }\n    }\n  ]\n}"
            }
          },
          "metadata": {},
          "execution_count": 8
        }
      ]
    },
    {
      "cell_type": "code",
      "source": [
        "df.shape"
      ],
      "metadata": {
        "colab": {
          "base_uri": "https://localhost:8080/"
        },
        "id": "L0sBoDzhxP7A",
        "outputId": "1ba944a0-836e-43dd-901d-0dafefd6685a"
      },
      "execution_count": null,
      "outputs": [
        {
          "output_type": "execute_result",
          "data": {
            "text/plain": [
              "(50000, 16)"
            ]
          },
          "metadata": {},
          "execution_count": 9
        }
      ]
    },
    {
      "cell_type": "code",
      "source": [
        "label_encoder = LabelEncoder()\n",
        "df['Obesity_Status'] = label_encoder.fit_transform(df['Obesity_Status'])\n",
        "df['Blood_Pressure'] = label_encoder.fit_transform(df['Blood_Pressure'])"
      ],
      "metadata": {
        "id": "_GbFSOnFxS_t"
      },
      "execution_count": null,
      "outputs": []
    },
    {
      "cell_type": "code",
      "source": [
        "def remove_outliers_zscore(df, column_names, threshold=3):\n",
        "    z_scores = np.abs((df[column_names] - df[column_names].mean()) / df[column_names].std())\n",
        "    filtered_df = df[(z_scores < threshold).all(axis=1)]\n",
        "    return filtered_df\n",
        "\n",
        "continuous_columns = ['Height_cm', 'Weight_kg']\n",
        "df_cleaned = remove_outliers_zscore(df, continuous_columns)\n",
        "\n",
        "print(f\"Data shape after outlier removal: {df_cleaned.shape}\")"
      ],
      "metadata": {
        "colab": {
          "base_uri": "https://localhost:8080/"
        },
        "id": "dN6V21HBxV4X",
        "outputId": "887952ab-89a4-4230-984e-9697982836bc"
      },
      "execution_count": null,
      "outputs": [
        {
          "output_type": "stream",
          "name": "stdout",
          "text": [
            "Data shape after outlier removal: (49744, 16)\n"
          ]
        }
      ]
    },
    {
      "cell_type": "code",
      "source": [
        "scaler = StandardScaler()\n",
        "df_cleaned[['Height_cm', 'Weight_kg']] = scaler.fit_transform(df_cleaned[['Height_cm', 'Weight_kg']])"
      ],
      "metadata": {
        "id": "XZMiPYdyxYJt"
      },
      "execution_count": null,
      "outputs": []
    },
    {
      "cell_type": "code",
      "source": [
        "class_counts = df_cleaned['Obesity_Status'].value_counts()\n",
        "\n",
        "scale_factor = class_counts.max() / class_counts\n",
        "\n",
        "def augment_data(df, target_col, scale_factor):\n",
        "    frames = []\n",
        "    for label, factor in scale_factor.items():\n",
        "        df_class = df[df[target_col] == label]\n",
        "        df_class_replicated = pd.concat([df_class] * int(np.round(factor)), ignore_index=True)\n",
        "        frames.append(df_class_replicated)\n",
        "\n",
        "    df_augmented = pd.concat(frames).sample(frac=1).reset_index(drop=True)  # Shuffle the data\n",
        "    return df_augmented\n",
        "\n",
        "df_augmented = augment_data(df_cleaned, 'Obesity_Status', scale_factor)\n",
        "print(f\"New class distribution after augmentation:\\n{df_augmented['Obesity_Status'].value_counts()}\")"
      ],
      "metadata": {
        "colab": {
          "base_uri": "https://localhost:8080/"
        },
        "id": "x2VlUe7CxaN4",
        "outputId": "ec799133-d27c-437a-c80b-c8b2a65fab84"
      },
      "execution_count": null,
      "outputs": [
        {
          "output_type": "stream",
          "name": "stdout",
          "text": [
            "New class distribution after augmentation:\n",
            "Obesity_Status\n",
            "3    18308\n",
            "0    17442\n",
            "2    15094\n",
            "1    12631\n",
            "Name: count, dtype: int64\n"
          ]
        }
      ]
    },
    {
      "cell_type": "code",
      "source": [
        "Q1 = df_augmented['Obesity_Status'].quantile(0.25)\n",
        "Q3 = df_augmented['Obesity_Status'].quantile(0.75)\n",
        "IQR = Q3 - Q1\n",
        "\n",
        "\n",
        "lower_bound = Q1 - 1.5 * IQR\n",
        "upper_bound = Q3 + 1.5 * IQR\n",
        "\n",
        "outliers = df_augmented[(df_augmented['Obesity_Status'] < lower_bound) | (df_augmented['Obesity_Status'] > upper_bound)]\n",
        "\n",
        "print(\"Outliers in Obesity_Status column:\", len(outliers))"
      ],
      "metadata": {
        "colab": {
          "base_uri": "https://localhost:8080/"
        },
        "id": "_7nDG53sxcye",
        "outputId": "49ac650f-c59e-4c6c-9645-29f3dd050b03"
      },
      "execution_count": null,
      "outputs": [
        {
          "output_type": "stream",
          "name": "stdout",
          "text": [
            "Outliers in Obesity_Status column: 0\n"
          ]
        }
      ]
    },
    {
      "cell_type": "code",
      "source": [
        "X = df_augmented.drop('Obesity_Status', axis=1)\n",
        "y = df_augmented['Obesity_Status']\n",
        "\n",
        "X_train, X_temp, y_train, y_temp = train_test_split(X, y, test_size=0.3, random_state=42)  # 70% train\n",
        "X_val, X_test, y_val, y_test = train_test_split(X_temp, y_temp, test_size=0.5, random_state=42)  # 15% validation, 15% test\n",
        "\n",
        "print(f\"Training set shape: {X_train.shape}\")\n",
        "print(f\"Validation set shape: {X_val.shape}\")\n",
        "print(f\"Test set shape: {X_test.shape}\")"
      ],
      "metadata": {
        "colab": {
          "base_uri": "https://localhost:8080/"
        },
        "id": "SZAUJEV9xgKp",
        "outputId": "12f1dbde-b061-4abf-db2a-c511d6b0c8fb"
      },
      "execution_count": null,
      "outputs": [
        {
          "output_type": "stream",
          "name": "stdout",
          "text": [
            "Training set shape: (44432, 15)\n",
            "Validation set shape: (9521, 15)\n",
            "Test set shape: (9522, 15)\n"
          ]
        }
      ]
    },
    {
      "cell_type": "code",
      "source": [
        "with mlflow.start_run(run_name=\"Run5\"):\n",
        "    # Logistic Regression Model\n",
        "    log_reg = LogisticRegression(max_iter=500, solver='sag', class_weight='balanced')\n",
        "    log_reg.fit(X_train, y_train)\n",
        "    y_pred_log_reg = log_reg.predict(X_val)\n",
        "\n",
        "    # Calculate metrics\n",
        "    accuracy = accuracy_score(y_val, y_pred_log_reg)\n",
        "    print(f\"Logistic Regression Accuracy: {accuracy}\")\n",
        "    class_report = classification_report(y_val, y_pred_log_reg, output_dict=True)\n",
        "    cm = confusion_matrix(y_val, y_pred_log_reg)\n",
        "\n",
        "    # Log parameters and metrics\n",
        "    mlflow.log_param(\"model_type\", \"Logistic Regression\")\n",
        "    mlflow.log_param(\"max_iter\", log_reg.max_iter)\n",
        "    mlflow.log_param(\"solver\", log_reg.solver)\n",
        "    mlflow.log_param(\"class_weight\", \"balanced\")\n",
        "    mlflow.log_metric(\"accuracy\", accuracy)\n",
        "    mlflow.log_metric(\"precision_weighted\", class_report['weighted avg']['precision'])\n",
        "    mlflow.log_metric(\"recall_weighted\", class_report['weighted avg']['recall'])\n",
        "    mlflow.log_metric(\"f1_weighted\", class_report['weighted avg']['f1-score'])\n",
        "\n",
        "    mlflow.sklearn.log_model(log_reg, \"logistic_regression_model\")"
      ],
      "metadata": {
        "colab": {
          "base_uri": "https://localhost:8080/"
        },
        "id": "5LyWNxIVxiUL",
        "outputId": "9676b20f-cb60-4d22-ff31-46e88a7e8b39"
      },
      "execution_count": null,
      "outputs": [
        {
          "output_type": "stream",
          "name": "stdout",
          "text": [
            "Logistic Regression Accuracy: 0.987921436823863\n"
          ]
        },
        {
          "output_type": "stream",
          "name": "stderr",
          "text": [
            "2024/11/04 10:48:01 WARNING mlflow.models.model: Model logged without a signature and input example. Please set `input_example` parameter when logging the model to auto infer the model signature.\n"
          ]
        }
      ]
    },
    {
      "cell_type": "code",
      "source": [
        "mlflow.set_experiment(\"SVM\")"
      ],
      "metadata": {
        "colab": {
          "base_uri": "https://localhost:8080/"
        },
        "id": "GaxCbX5Axy16",
        "outputId": "b389c3bf-adc2-43c7-f890-0ae2c01c0ea4"
      },
      "execution_count": null,
      "outputs": [
        {
          "output_type": "stream",
          "name": "stderr",
          "text": [
            "2024/11/04 11:05:27 INFO mlflow.tracking.fluent: Experiment with name 'SVM' does not exist. Creating a new experiment.\n"
          ]
        },
        {
          "output_type": "execute_result",
          "data": {
            "text/plain": [
              "<Experiment: artifact_location='file://content/drive/MyDrive/mlruns_new/454708959125817374', creation_time=1730718327881, experiment_id='454708959125817374', last_update_time=1730718327881, lifecycle_stage='active', name='SVM', tags={}>"
            ]
          },
          "metadata": {},
          "execution_count": 19
        }
      ]
    },
    {
      "cell_type": "code",
      "source": [
        "# Number of runs\n",
        "num_runs = 5\n",
        "\n",
        "# Initialize a list of hyperparameter settings to test manually\n",
        "# You can modify these parameter values as needed\n",
        "parameter_settings = [\n",
        "    {'C': 0.1, 'gamma': 'scale', 'kernel': 'linear'},\n",
        "    {'C': 1, 'gamma': 'scale', 'kernel': 'linear'},\n",
        "    {'C': 10, 'gamma': 'scale', 'kernel': 'rbf'},\n",
        "    {'C': 1, 'gamma': 'auto', 'kernel': 'rbf'},\n",
        "    {'C': 0.5, 'gamma': 'scale', 'kernel': 'linear'}\n",
        "]\n",
        "\n",
        "# Loop through the parameter settings\n",
        "for run, params in enumerate(parameter_settings):\n",
        "    with mlflow.start_run(run_name=f\"SVM_Experiment_Run_{run + 1}\"):\n",
        "        # Initialize the SVM model with the specified parameters\n",
        "        svm = SVC(C=params['C'], gamma=params['gamma'], kernel=params['kernel'], class_weight='balanced')\n",
        "\n",
        "        # Fit the model\n",
        "        svm.fit(X_train, y_train)\n",
        "\n",
        "        # Make predictions\n",
        "        y_pred_svm = svm.predict(X_val)\n",
        "\n",
        "        # Calculate metrics\n",
        "        accuracy = accuracy_score(y_val, y_pred_svm)\n",
        "        print(f\"SVM Run {run + 1} Accuracy: {accuracy}\")\n",
        "        class_report = classification_report(y_val, y_pred_svm, output_dict=True)\n",
        "        cm = confusion_matrix(y_val, y_pred_svm)\n",
        "\n",
        "        # Log parameters and metrics\n",
        "        mlflow.log_param(\"model_type\", \"SVM\")\n",
        "        mlflow.log_param(\"C\", params['C'])\n",
        "        mlflow.log_param(\"gamma\", params['gamma'])\n",
        "        mlflow.log_param(\"kernel\", params['kernel'])\n",
        "        mlflow.log_metric(\"accuracy\", accuracy)\n",
        "        mlflow.log_metric(\"precision_weighted\", class_report['weighted avg']['precision'])\n",
        "        mlflow.log_metric(\"recall_weighted\", class_report['weighted avg']['recall'])\n",
        "        mlflow.log_metric(\"f1_weighted\", class_report['weighted avg']['f1-score'])\n",
        "\n",
        "        # Log the SVM model\n",
        "        mlflow.sklearn.log_model(svm, \"svm_model\")"
      ],
      "metadata": {
        "colab": {
          "base_uri": "https://localhost:8080/"
        },
        "id": "ZYuCbTPS2Yqw",
        "outputId": "e3f0baff-47c6-4bbb-8d9c-27f3c06c3f7c"
      },
      "execution_count": null,
      "outputs": [
        {
          "output_type": "stream",
          "name": "stdout",
          "text": [
            "SVM Run 1 Accuracy: 0.9951685747295452\n"
          ]
        },
        {
          "output_type": "stream",
          "name": "stderr",
          "text": [
            "2024/11/04 11:20:31 WARNING mlflow.models.model: Model logged without a signature and input example. Please set `input_example` parameter when logging the model to auto infer the model signature.\n"
          ]
        },
        {
          "output_type": "stream",
          "name": "stdout",
          "text": [
            "SVM Run 2 Accuracy: 0.997689318348913\n"
          ]
        },
        {
          "output_type": "stream",
          "name": "stderr",
          "text": [
            "2024/11/04 11:20:38 WARNING mlflow.models.model: Model logged without a signature and input example. Please set `input_example` parameter when logging the model to auto infer the model signature.\n"
          ]
        },
        {
          "output_type": "stream",
          "name": "stdout",
          "text": [
            "SVM Run 3 Accuracy: 0.9887616846969857\n"
          ]
        },
        {
          "output_type": "stream",
          "name": "stderr",
          "text": [
            "2024/11/04 11:20:57 WARNING mlflow.models.model: Model logged without a signature and input example. Please set `input_example` parameter when logging the model to auto infer the model signature.\n"
          ]
        },
        {
          "output_type": "stream",
          "name": "stdout",
          "text": [
            "SVM Run 4 Accuracy: 0.9841403213948114\n"
          ]
        },
        {
          "output_type": "stream",
          "name": "stderr",
          "text": [
            "2024/11/04 11:21:31 WARNING mlflow.models.model: Model logged without a signature and input example. Please set `input_example` parameter when logging the model to auto infer the model signature.\n"
          ]
        },
        {
          "output_type": "stream",
          "name": "stdout",
          "text": [
            "SVM Run 5 Accuracy: 0.9974792563806323\n"
          ]
        },
        {
          "output_type": "stream",
          "name": "stderr",
          "text": [
            "2024/11/04 11:21:39 WARNING mlflow.models.model: Model logged without a signature and input example. Please set `input_example` parameter when logging the model to auto infer the model signature.\n"
          ]
        }
      ]
    },
    {
      "cell_type": "code",
      "source": [
        "mlflow.set_experiment(\"RandomForestClassifier\")"
      ],
      "metadata": {
        "colab": {
          "base_uri": "https://localhost:8080/"
        },
        "id": "dVqH_4r653k9",
        "outputId": "cdf60be8-d3c6-4821-9d17-2cfeed45b826"
      },
      "execution_count": null,
      "outputs": [
        {
          "output_type": "stream",
          "name": "stderr",
          "text": [
            "2024/11/04 14:19:44 INFO mlflow.tracking.fluent: Experiment with name 'RandomForestClassifier' does not exist. Creating a new experiment.\n"
          ]
        },
        {
          "output_type": "execute_result",
          "data": {
            "text/plain": [
              "<Experiment: artifact_location='file://content/drive/MyDrive/mlruns_new/844163624781780033', creation_time=1730729984971, experiment_id='844163624781780033', last_update_time=1730729984971, lifecycle_stage='active', name='RandomForestClassifier', tags={}>"
            ]
          },
          "metadata": {},
          "execution_count": 16
        }
      ]
    },
    {
      "cell_type": "code",
      "source": [
        "# Number of runs\n",
        "num_runs = 5\n",
        "\n",
        "# Initialize a list of hyperparameter settings to test manually\n",
        "# You can modify these parameter values as needed\n",
        "parameter_settings = [\n",
        "    {'n_estimators': 50, 'max_depth': None, 'min_samples_split': 2},\n",
        "    {'n_estimators': 100, 'max_depth': 10, 'min_samples_split': 5},\n",
        "    {'n_estimators': 150, 'max_depth': 20, 'min_samples_split': 10},\n",
        "    {'n_estimators': 200, 'max_depth': None, 'min_samples_split': 2},\n",
        "    {'n_estimators': 75, 'max_depth': 15, 'min_samples_split': 3}\n",
        "]\n",
        "\n",
        "# Loop through the parameter settings\n",
        "for run, params in enumerate(parameter_settings):\n",
        "    with mlflow.start_run(run_name=f\"RandomForest_Experiment_Run_{run + 1}\"):\n",
        "        # Initialize the Random Forest model with the specified parameters\n",
        "        rf = RandomForestClassifier(\n",
        "            n_estimators=params['n_estimators'],\n",
        "            max_depth=params['max_depth'],\n",
        "            min_samples_split=params['min_samples_split'],\n",
        "            class_weight='balanced',\n",
        "            random_state=42\n",
        "        )\n",
        "\n",
        "        # Fit the model\n",
        "        rf.fit(X_train, y_train)\n",
        "\n",
        "        # Make predictions\n",
        "        y_pred_rf = rf.predict(X_val)\n",
        "\n",
        "        # Calculate metrics\n",
        "        accuracy = accuracy_score(y_val, y_pred_rf)\n",
        "        print(f\"Random Forest Run {run + 1} Accuracy: {accuracy}\")\n",
        "        class_report = classification_report(y_val, y_pred_rf, output_dict=True)\n",
        "        cm = confusion_matrix(y_val, y_pred_rf)\n",
        "\n",
        "        # Log parameters and metrics\n",
        "        mlflow.log_param(\"model_type\", \"Random Forest\")\n",
        "        mlflow.log_param(\"n_estimators\", params['n_estimators'])\n",
        "        mlflow.log_param(\"max_depth\", params['max_depth'])\n",
        "        mlflow.log_param(\"min_samples_split\", params['min_samples_split'])\n",
        "        mlflow.log_metric(\"accuracy\", accuracy)\n",
        "        mlflow.log_metric(\"precision_weighted\", class_report['weighted avg']['precision'])\n",
        "        mlflow.log_metric(\"recall_weighted\", class_report['weighted avg']['recall'])\n",
        "        mlflow.log_metric(\"f1_weighted\", class_report['weighted avg']['f1-score'])\n",
        "\n",
        "        # Log the Random Forest model\n",
        "        mlflow.sklearn.log_model(rf, \"random_forest_model\")"
      ],
      "metadata": {
        "colab": {
          "base_uri": "https://localhost:8080/"
        },
        "id": "3xZgZVme6v0R",
        "outputId": "5bea9242-b301-4707-aca3-beef4ed19839"
      },
      "execution_count": null,
      "outputs": [
        {
          "output_type": "stream",
          "name": "stdout",
          "text": [
            "Random Forest Run 1 Accuracy: 1.0\n"
          ]
        },
        {
          "output_type": "stream",
          "name": "stderr",
          "text": [
            "2024/11/04 14:20:09 WARNING mlflow.models.model: Model logged without a signature and input example. Please set `input_example` parameter when logging the model to auto infer the model signature.\n"
          ]
        },
        {
          "output_type": "stream",
          "name": "stdout",
          "text": [
            "Random Forest Run 2 Accuracy: 1.0\n"
          ]
        },
        {
          "output_type": "stream",
          "name": "stderr",
          "text": [
            "2024/11/04 14:20:17 WARNING mlflow.models.model: Model logged without a signature and input example. Please set `input_example` parameter when logging the model to auto infer the model signature.\n"
          ]
        },
        {
          "output_type": "stream",
          "name": "stdout",
          "text": [
            "Random Forest Run 3 Accuracy: 1.0\n"
          ]
        },
        {
          "output_type": "stream",
          "name": "stderr",
          "text": [
            "2024/11/04 14:20:29 WARNING mlflow.models.model: Model logged without a signature and input example. Please set `input_example` parameter when logging the model to auto infer the model signature.\n"
          ]
        },
        {
          "output_type": "stream",
          "name": "stdout",
          "text": [
            "Random Forest Run 4 Accuracy: 1.0\n"
          ]
        },
        {
          "output_type": "stream",
          "name": "stderr",
          "text": [
            "2024/11/04 14:20:43 WARNING mlflow.models.model: Model logged without a signature and input example. Please set `input_example` parameter when logging the model to auto infer the model signature.\n"
          ]
        },
        {
          "output_type": "stream",
          "name": "stdout",
          "text": [
            "Random Forest Run 5 Accuracy: 1.0\n"
          ]
        },
        {
          "output_type": "stream",
          "name": "stderr",
          "text": [
            "2024/11/04 14:20:53 WARNING mlflow.models.model: Model logged without a signature and input example. Please set `input_example` parameter when logging the model to auto infer the model signature.\n"
          ]
        }
      ]
    },
    {
      "cell_type": "code",
      "source": [
        "mlflow.set_experiment(\"XGBoost\")"
      ],
      "metadata": {
        "colab": {
          "base_uri": "https://localhost:8080/"
        },
        "id": "Yt4TeuhGj9ZG",
        "outputId": "297ba189-79aa-43a1-dbd9-5edaede07728"
      },
      "execution_count": null,
      "outputs": [
        {
          "output_type": "stream",
          "name": "stderr",
          "text": [
            "2024/11/04 14:24:39 INFO mlflow.tracking.fluent: Experiment with name 'XGBoost' does not exist. Creating a new experiment.\n"
          ]
        },
        {
          "output_type": "execute_result",
          "data": {
            "text/plain": [
              "<Experiment: artifact_location='file://content/drive/MyDrive/mlruns_new/706479386585321452', creation_time=1730730279578, experiment_id='706479386585321452', last_update_time=1730730279578, lifecycle_stage='active', name='XGBoost', tags={}>"
            ]
          },
          "metadata": {},
          "execution_count": 18
        }
      ]
    },
    {
      "cell_type": "code",
      "source": [
        "# Number of runs\n",
        "num_runs = 5\n",
        "\n",
        "parameter_settings = [\n",
        "    {'n_estimators': 50, 'learning_rate': 0.1, 'max_depth': 3},\n",
        "    {'n_estimators': 100, 'learning_rate': 0.05, 'max_depth': 5},\n",
        "    {'n_estimators': 150, 'learning_rate': 0.01, 'max_depth': 7},\n",
        "    {'n_estimators': 200, 'learning_rate': 0.1, 'max_depth': 4},\n",
        "    {'n_estimators': 100, 'learning_rate': 0.2, 'max_depth': 6}\n",
        "]\n",
        "\n",
        "# Loop through the parameter settings\n",
        "for run, params in enumerate(parameter_settings):\n",
        "    with mlflow.start_run(run_name=f\"XGBoost_Experiment_Run_{run + 1}\"):\n",
        "        # Initialize the XGBoost model with the specified parameters\n",
        "        xgb = XGBClassifier(\n",
        "            n_estimators=params['n_estimators'],\n",
        "            learning_rate=params['learning_rate'],\n",
        "            max_depth=params['max_depth'],\n",
        "            use_label_encoder=False,\n",
        "            eval_metric='logloss',  # Suppress warning with `use_label_encoder=False`\n",
        "            random_state=42\n",
        "        )\n",
        "\n",
        "        # Fit the model\n",
        "        xgb.fit(X_train, y_train)\n",
        "\n",
        "        # Make predictions\n",
        "        y_pred_xgb = xgb.predict(X_val)\n",
        "\n",
        "        # Calculate metrics\n",
        "        accuracy = accuracy_score(y_val, y_pred_xgb)\n",
        "        print(f\"XGBoost Run {run + 1} Accuracy: {accuracy}\")\n",
        "        class_report = classification_report(y_val, y_pred_xgb, output_dict=True)\n",
        "        cm = confusion_matrix(y_val, y_pred_xgb)\n",
        "\n",
        "        # Log parameters and metrics\n",
        "        mlflow.log_param(\"model_type\", \"XGBoost\")\n",
        "        mlflow.log_param(\"n_estimators\", params['n_estimators'])\n",
        "        mlflow.log_param(\"learning_rate\", params['learning_rate'])\n",
        "        mlflow.log_param(\"max_depth\", params['max_depth'])\n",
        "        mlflow.log_metric(\"accuracy\", accuracy)\n",
        "        mlflow.log_metric(\"precision_weighted\", class_report['weighted avg']['precision'])\n",
        "        mlflow.log_metric(\"recall_weighted\", class_report['weighted avg']['recall'])\n",
        "        mlflow.log_metric(\"f1_weighted\", class_report['weighted avg']['f1-score'])\n",
        "\n",
        "        # Log the XGBoost model\n",
        "        mlflow.sklearn.log_model(xgb, \"xgboost_model\")"
      ],
      "metadata": {
        "colab": {
          "base_uri": "https://localhost:8080/"
        },
        "id": "JAYSEuReiULX",
        "outputId": "e1dd3b30-8d48-4e99-fd0e-c8bd77018d5b"
      },
      "execution_count": null,
      "outputs": [
        {
          "output_type": "stream",
          "name": "stdout",
          "text": [
            "XGBoost Run 1 Accuracy: 0.9974792563806323\n"
          ]
        },
        {
          "output_type": "stream",
          "name": "stderr",
          "text": [
            "2024/11/04 14:24:50 WARNING mlflow.models.model: Model logged without a signature and input example. Please set `input_example` parameter when logging the model to auto infer the model signature.\n"
          ]
        },
        {
          "output_type": "stream",
          "name": "stdout",
          "text": [
            "XGBoost Run 2 Accuracy: 0.9982144732696145\n"
          ]
        },
        {
          "output_type": "stream",
          "name": "stderr",
          "text": [
            "2024/11/04 14:24:57 WARNING mlflow.models.model: Model logged without a signature and input example. Please set `input_example` parameter when logging the model to auto infer the model signature.\n"
          ]
        },
        {
          "output_type": "stream",
          "name": "stdout",
          "text": [
            "XGBoost Run 3 Accuracy: 0.9983195042537548\n"
          ]
        },
        {
          "output_type": "stream",
          "name": "stderr",
          "text": [
            "2024/11/04 14:25:15 WARNING mlflow.models.model: Model logged without a signature and input example. Please set `input_example` parameter when logging the model to auto infer the model signature.\n"
          ]
        },
        {
          "output_type": "stream",
          "name": "stdout",
          "text": [
            "XGBoost Run 4 Accuracy: 0.9983195042537548\n"
          ]
        },
        {
          "output_type": "stream",
          "name": "stderr",
          "text": [
            "2024/11/04 14:25:21 WARNING mlflow.models.model: Model logged without a signature and input example. Please set `input_example` parameter when logging the model to auto infer the model signature.\n"
          ]
        },
        {
          "output_type": "stream",
          "name": "stdout",
          "text": [
            "XGBoost Run 5 Accuracy: 0.9981094422854743\n"
          ]
        },
        {
          "output_type": "stream",
          "name": "stderr",
          "text": [
            "2024/11/04 14:25:26 WARNING mlflow.models.model: Model logged without a signature and input example. Please set `input_example` parameter when logging the model to auto infer the model signature.\n"
          ]
        }
      ]
    },
    {
      "cell_type": "code",
      "source": [
        "pip install pytorch-tabnet"
      ],
      "metadata": {
        "id": "hvxeGSizkFMv",
        "colab": {
          "base_uri": "https://localhost:8080/"
        },
        "outputId": "60a8921c-cc70-4cdf-9da2-8e215b686d68"
      },
      "execution_count": null,
      "outputs": [
        {
          "output_type": "stream",
          "name": "stdout",
          "text": [
            "Collecting pytorch-tabnet\n",
            "  Downloading pytorch_tabnet-4.1.0-py3-none-any.whl.metadata (15 kB)\n",
            "Requirement already satisfied: numpy>=1.17 in /usr/local/lib/python3.10/dist-packages (from pytorch-tabnet) (1.26.4)\n",
            "Requirement already satisfied: scikit_learn>0.21 in /usr/local/lib/python3.10/dist-packages (from pytorch-tabnet) (1.5.2)\n",
            "Requirement already satisfied: scipy>1.4 in /usr/local/lib/python3.10/dist-packages (from pytorch-tabnet) (1.13.1)\n",
            "Requirement already satisfied: torch>=1.3 in /usr/local/lib/python3.10/dist-packages (from pytorch-tabnet) (2.5.0+cu121)\n",
            "Requirement already satisfied: tqdm>=4.36 in /usr/local/lib/python3.10/dist-packages (from pytorch-tabnet) (4.66.6)\n",
            "Requirement already satisfied: joblib>=1.2.0 in /usr/local/lib/python3.10/dist-packages (from scikit_learn>0.21->pytorch-tabnet) (1.4.2)\n",
            "Requirement already satisfied: threadpoolctl>=3.1.0 in /usr/local/lib/python3.10/dist-packages (from scikit_learn>0.21->pytorch-tabnet) (3.5.0)\n",
            "Requirement already satisfied: filelock in /usr/local/lib/python3.10/dist-packages (from torch>=1.3->pytorch-tabnet) (3.16.1)\n",
            "Requirement already satisfied: typing-extensions>=4.8.0 in /usr/local/lib/python3.10/dist-packages (from torch>=1.3->pytorch-tabnet) (4.12.2)\n",
            "Requirement already satisfied: networkx in /usr/local/lib/python3.10/dist-packages (from torch>=1.3->pytorch-tabnet) (3.4.2)\n",
            "Requirement already satisfied: jinja2 in /usr/local/lib/python3.10/dist-packages (from torch>=1.3->pytorch-tabnet) (3.1.4)\n",
            "Requirement already satisfied: fsspec in /usr/local/lib/python3.10/dist-packages (from torch>=1.3->pytorch-tabnet) (2024.10.0)\n",
            "Requirement already satisfied: sympy==1.13.1 in /usr/local/lib/python3.10/dist-packages (from torch>=1.3->pytorch-tabnet) (1.13.1)\n",
            "Requirement already satisfied: mpmath<1.4,>=1.1.0 in /usr/local/lib/python3.10/dist-packages (from sympy==1.13.1->torch>=1.3->pytorch-tabnet) (1.3.0)\n",
            "Requirement already satisfied: MarkupSafe>=2.0 in /usr/local/lib/python3.10/dist-packages (from jinja2->torch>=1.3->pytorch-tabnet) (3.0.2)\n",
            "Downloading pytorch_tabnet-4.1.0-py3-none-any.whl (44 kB)\n",
            "\u001b[2K   \u001b[90m━━━━━━━━━━━━━━━━━━━━━━━━━━━━━━━━━━━━━━━━\u001b[0m \u001b[32m44.5/44.5 kB\u001b[0m \u001b[31m2.2 MB/s\u001b[0m eta \u001b[36m0:00:00\u001b[0m\n",
            "\u001b[?25hInstalling collected packages: pytorch-tabnet\n",
            "Successfully installed pytorch-tabnet-4.1.0\n"
          ]
        }
      ]
    },
    {
      "cell_type": "code",
      "source": [
        "from pytorch_tabnet.tab_model import TabNetClassifier\n",
        "from sklearn.preprocessing import LabelEncoder"
      ],
      "metadata": {
        "id": "2_ZjGEr0m3lf"
      },
      "execution_count": null,
      "outputs": []
    },
    {
      "cell_type": "code",
      "source": [
        "mlflow.set_experiment(\"TabNetClassifier\")"
      ],
      "metadata": {
        "colab": {
          "base_uri": "https://localhost:8080/"
        },
        "id": "-ISypnOeoJq7",
        "outputId": "bf4d26b8-8c58-4ae3-c6fa-c9ff67e257c3"
      },
      "execution_count": null,
      "outputs": [
        {
          "output_type": "stream",
          "name": "stderr",
          "text": [
            "2024/11/06 08:39:33 INFO mlflow.tracking.fluent: Experiment with name 'TabNetClassifier' does not exist. Creating a new experiment.\n"
          ]
        },
        {
          "output_type": "execute_result",
          "data": {
            "text/plain": [
              "<Experiment: artifact_location='file://content/drive/MyDrive/mlruns_new/401100004534551629', creation_time=1730882373244, experiment_id='401100004534551629', last_update_time=1730882373244, lifecycle_stage='active', name='TabNetClassifier', tags={}>"
            ]
          },
          "metadata": {},
          "execution_count": 19
        }
      ]
    },
    {
      "cell_type": "code",
      "source": [
        "# Assuming X_train, y_train, X_val, and y_val are in pandas DataFrame or NumPy array format\n",
        "\n",
        "# Convert data to NumPy arrays if not already\n",
        "X_train_np = np.array(X_train)\n",
        "y_train_np = np.array(y_train)\n",
        "X_val_np = np.array(X_val)\n",
        "y_val_np = np.array(y_val)\n",
        "\n",
        "# Label encode target variable if it's categorical\n",
        "label_encoder = LabelEncoder()\n",
        "y_train_np = label_encoder.fit_transform(y_train_np)\n",
        "y_val_np = label_encoder.transform(y_val_np)"
      ],
      "metadata": {
        "id": "z1CVWxtOnbNl"
      },
      "execution_count": null,
      "outputs": []
    },
    {
      "cell_type": "code",
      "source": [
        "num_runs = 5\n",
        "\n",
        "parameter_settings = [\n",
        "    {'n_d': 8, 'n_a': 8, 'n_steps': 3, 'gamma': 1.3, 'lambda_sparse': 0.0001},\n",
        "    {'n_d': 16, 'n_a': 16, 'n_steps': 5, 'gamma': 1.5, 'lambda_sparse': 0.001},\n",
        "    {'n_d': 24, 'n_a': 24, 'n_steps': 7, 'gamma': 1.7, 'lambda_sparse': 0.005},\n",
        "    {'n_d': 32, 'n_a': 32, 'n_steps': 3, 'gamma': 1.4, 'lambda_sparse': 0.01},\n",
        "    {'n_d': 16, 'n_a': 16, 'n_steps': 4, 'gamma': 1.3, 'lambda_sparse': 0.0005}\n",
        "]\n",
        "\n",
        "for run, params in enumerate(parameter_settings):\n",
        "    with mlflow.start_run(run_name=f\"TabNet_Experiment_Run_{run + 1}\"):\n",
        "        # Initialize the TabNet model with the specified parameters\n",
        "        tabnet = TabNetClassifier(\n",
        "            n_d=params['n_d'],\n",
        "            n_a=params['n_a'],\n",
        "            n_steps=params['n_steps'],\n",
        "            gamma=params['gamma'],\n",
        "            lambda_sparse=params['lambda_sparse'],\n",
        "            seed=42\n",
        "        )\n",
        "\n",
        "        # Fit the model\n",
        "        tabnet.fit(\n",
        "            X_train_np, y_train_np,\n",
        "            eval_set=[(X_val_np, y_val_np)],\n",
        "            eval_metric=['accuracy'],\n",
        "            max_epochs=100,\n",
        "            patience=10,\n",
        "            batch_size=256,\n",
        "            virtual_batch_size=128\n",
        "        )\n",
        "\n",
        "        # Make predictions\n",
        "        y_pred_tabnet = tabnet.predict(X_val_np)\n",
        "\n",
        "        # Calculate metrics\n",
        "        accuracy = accuracy_score(y_val_np, y_pred_tabnet)\n",
        "        print(f\"TabNet Run {run + 1} Accuracy: {accuracy}\")\n",
        "        class_report = classification_report(y_val_np, y_pred_tabnet, output_dict=True)\n",
        "        cm = confusion_matrix(y_val_np, y_pred_tabnet)\n",
        "\n",
        "        # Log parameters and metrics\n",
        "        mlflow.log_param(\"model_type\", \"TabNet\")\n",
        "        mlflow.log_param(\"n_d\", params['n_d'])\n",
        "        mlflow.log_param(\"n_a\", params['n_a'])\n",
        "        mlflow.log_param(\"n_steps\", params['n_steps'])\n",
        "        mlflow.log_param(\"gamma\", params['gamma'])\n",
        "        mlflow.log_param(\"lambda_sparse\", params['lambda_sparse'])\n",
        "        mlflow.log_metric(\"accuracy\", accuracy)\n",
        "        mlflow.log_metric(\"precision_weighted\", class_report['weighted avg']['precision'])\n",
        "        mlflow.log_metric(\"recall_weighted\", class_report['weighted avg']['recall'])\n",
        "        mlflow.log_metric(\"f1_weighted\", class_report['weighted avg']['f1-score'])\n",
        "\n",
        "        # Log the TabNet model\n",
        "        mlflow.sklearn.log_model(tabnet, \"tabnet_model\")"
      ],
      "metadata": {
        "colab": {
          "base_uri": "https://localhost:8080/"
        },
        "id": "H6rHVT_BnqfD",
        "outputId": "1d2119c6-8b32-4308-8be2-4c5076ecb8a7"
      },
      "execution_count": null,
      "outputs": [
        {
          "output_type": "stream",
          "name": "stdout",
          "text": [
            "epoch 0  | loss: 0.34807 | val_0_accuracy: 0.39135 |  0:00:06s\n",
            "epoch 1  | loss: 0.18196 | val_0_accuracy: 0.97332 |  0:00:10s\n",
            "epoch 2  | loss: 0.1842  | val_0_accuracy: 0.952   |  0:00:16s\n",
            "epoch 3  | loss: 0.16192 | val_0_accuracy: 0.97721 |  0:00:22s\n",
            "epoch 4  | loss: 0.17604 | val_0_accuracy: 0.96891 |  0:00:26s\n",
            "epoch 5  | loss: 0.15868 | val_0_accuracy: 0.94906 |  0:00:32s\n",
            "epoch 6  | loss: 0.16701 | val_0_accuracy: 0.93005 |  0:00:38s\n",
            "epoch 7  | loss: 0.15174 | val_0_accuracy: 0.95295 |  0:00:42s\n",
            "epoch 8  | loss: 0.14751 | val_0_accuracy: 0.9729  |  0:00:49s\n",
            "epoch 9  | loss: 0.14622 | val_0_accuracy: 0.97479 |  0:00:55s\n",
            "epoch 10 | loss: 0.16057 | val_0_accuracy: 0.97647 |  0:01:01s\n",
            "epoch 11 | loss: 0.15406 | val_0_accuracy: 0.97868 |  0:01:07s\n",
            "epoch 12 | loss: 0.14495 | val_0_accuracy: 0.97595 |  0:01:12s\n",
            "epoch 13 | loss: 0.14627 | val_0_accuracy: 0.94391 |  0:01:18s\n",
            "epoch 14 | loss: 0.15169 | val_0_accuracy: 0.98551 |  0:01:23s\n",
            "epoch 15 | loss: 0.14535 | val_0_accuracy: 0.9854  |  0:01:28s\n",
            "epoch 16 | loss: 0.13559 | val_0_accuracy: 0.96996 |  0:01:35s\n",
            "epoch 17 | loss: 0.14398 | val_0_accuracy: 0.97133 |  0:01:40s\n",
            "epoch 18 | loss: 0.137   | val_0_accuracy: 0.94465 |  0:01:45s\n",
            "epoch 19 | loss: 0.1463  | val_0_accuracy: 0.9853  |  0:01:51s\n",
            "epoch 20 | loss: 0.13079 | val_0_accuracy: 0.99527 |  0:01:56s\n",
            "epoch 21 | loss: 0.14094 | val_0_accuracy: 0.96492 |  0:02:02s\n",
            "epoch 22 | loss: 0.13715 | val_0_accuracy: 0.96891 |  0:02:07s\n",
            "epoch 23 | loss: 0.134   | val_0_accuracy: 0.96839 |  0:02:20s\n",
            "epoch 24 | loss: 0.13619 | val_0_accuracy: 0.97805 |  0:02:29s\n",
            "epoch 25 | loss: 0.14081 | val_0_accuracy: 0.96177 |  0:02:36s\n",
            "epoch 26 | loss: 0.14525 | val_0_accuracy: 0.94843 |  0:02:41s\n",
            "epoch 27 | loss: 0.12978 | val_0_accuracy: 0.95589 |  0:02:46s\n",
            "epoch 28 | loss: 0.14366 | val_0_accuracy: 0.93373 |  0:02:52s\n",
            "epoch 29 | loss: 0.14816 | val_0_accuracy: 0.96387 |  0:02:57s\n",
            "epoch 30 | loss: 0.13796 | val_0_accuracy: 0.97364 |  0:03:02s\n",
            "\n",
            "Early stopping occurred at epoch 30 with best_epoch = 20 and best_val_0_accuracy = 0.99527\n",
            "TabNet Run 1 Accuracy: 0.9952736057136855\n"
          ]
        },
        {
          "output_type": "stream",
          "name": "stderr",
          "text": [
            "2024/11/06 08:43:29 WARNING mlflow.models.model: Model logged without a signature and input example. Please set `input_example` parameter when logging the model to auto infer the model signature.\n"
          ]
        },
        {
          "output_type": "stream",
          "name": "stdout",
          "text": [
            "epoch 0  | loss: 0.38922 | val_0_accuracy: 0.40752 |  0:00:07s\n",
            "epoch 1  | loss: 0.18442 | val_0_accuracy: 0.85831 |  0:00:18s\n",
            "epoch 2  | loss: 0.18244 | val_0_accuracy: 0.97364 |  0:00:28s\n",
            "epoch 3  | loss: 0.17587 | val_0_accuracy: 0.97542 |  0:00:37s\n",
            "epoch 4  | loss: 0.15782 | val_0_accuracy: 0.91745 |  0:00:46s\n",
            "epoch 5  | loss: 0.16074 | val_0_accuracy: 0.97679 |  0:00:55s\n",
            "epoch 6  | loss: 0.15274 | val_0_accuracy: 0.93509 |  0:01:04s\n",
            "epoch 7  | loss: 0.16042 | val_0_accuracy: 0.94738 |  0:01:12s\n",
            "epoch 8  | loss: 0.15186 | val_0_accuracy: 0.96135 |  0:01:21s\n",
            "epoch 9  | loss: 0.15126 | val_0_accuracy: 0.96723 |  0:01:29s\n",
            "epoch 10 | loss: 0.14129 | val_0_accuracy: 0.95011 |  0:01:38s\n",
            "epoch 11 | loss: 0.14439 | val_0_accuracy: 0.96103 |  0:01:47s\n",
            "epoch 12 | loss: 0.15084 | val_0_accuracy: 0.96292 |  0:01:54s\n",
            "epoch 13 | loss: 0.15496 | val_0_accuracy: 0.97196 |  0:02:03s\n",
            "epoch 14 | loss: 0.15242 | val_0_accuracy: 0.96397 |  0:02:11s\n",
            "epoch 15 | loss: 0.15938 | val_0_accuracy: 0.96555 |  0:02:20s\n",
            "\n",
            "Early stopping occurred at epoch 15 with best_epoch = 5 and best_val_0_accuracy = 0.97679\n",
            "TabNet Run 2 Accuracy: 0.976788152504989\n"
          ]
        },
        {
          "output_type": "stream",
          "name": "stderr",
          "text": [
            "2024/11/06 08:46:02 WARNING mlflow.models.model: Model logged without a signature and input example. Please set `input_example` parameter when logging the model to auto infer the model signature.\n"
          ]
        },
        {
          "output_type": "stream",
          "name": "stdout",
          "text": [
            "epoch 0  | loss: 0.62576 | val_0_accuracy: 0.44229 |  0:00:16s\n",
            "epoch 1  | loss: 0.27643 | val_0_accuracy: 0.87984 |  0:00:32s\n",
            "epoch 2  | loss: 0.21881 | val_0_accuracy: 0.96639 |  0:00:48s\n",
            "epoch 3  | loss: 0.19705 | val_0_accuracy: 0.93824 |  0:01:04s\n",
            "epoch 4  | loss: 0.17508 | val_0_accuracy: 0.97385 |  0:01:21s\n",
            "epoch 5  | loss: 0.17005 | val_0_accuracy: 0.96534 |  0:01:37s\n",
            "epoch 6  | loss: 0.16277 | val_0_accuracy: 0.96471 |  0:01:54s\n",
            "epoch 7  | loss: 0.16691 | val_0_accuracy: 0.98425 |  0:02:10s\n",
            "epoch 8  | loss: 0.15445 | val_0_accuracy: 0.96565 |  0:02:24s\n",
            "epoch 9  | loss: 0.15442 | val_0_accuracy: 0.94917 |  0:02:36s\n",
            "epoch 10 | loss: 0.16169 | val_0_accuracy: 0.93971 |  0:02:48s\n",
            "epoch 11 | loss: 0.15527 | val_0_accuracy: 0.98109 |  0:03:02s\n",
            "epoch 12 | loss: 0.16239 | val_0_accuracy: 0.95547 |  0:03:15s\n",
            "epoch 13 | loss: 0.14551 | val_0_accuracy: 0.97595 |  0:03:27s\n",
            "epoch 14 | loss: 0.14683 | val_0_accuracy: 0.954   |  0:03:40s\n",
            "epoch 15 | loss: 0.13719 | val_0_accuracy: 0.97091 |  0:03:52s\n",
            "epoch 16 | loss: 0.13448 | val_0_accuracy: 0.94486 |  0:04:06s\n",
            "epoch 17 | loss: 0.13782 | val_0_accuracy: 0.98214 |  0:04:18s\n",
            "\n",
            "Early stopping occurred at epoch 17 with best_epoch = 7 and best_val_0_accuracy = 0.98425\n",
            "TabNet Run 3 Accuracy: 0.9842453523789518\n"
          ]
        },
        {
          "output_type": "stream",
          "name": "stderr",
          "text": [
            "2024/11/06 08:50:35 WARNING mlflow.models.model: Model logged without a signature and input example. Please set `input_example` parameter when logging the model to auto infer the model signature.\n"
          ]
        },
        {
          "output_type": "stream",
          "name": "stdout",
          "text": [
            "epoch 0  | loss: 0.34556 | val_0_accuracy: 0.41172 |  0:00:07s\n",
            "epoch 1  | loss: 0.1728  | val_0_accuracy: 0.88573 |  0:00:14s\n",
            "epoch 2  | loss: 0.15894 | val_0_accuracy: 0.94454 |  0:00:21s\n",
            "epoch 3  | loss: 0.15342 | val_0_accuracy: 0.98099 |  0:00:28s\n",
            "epoch 4  | loss: 0.15323 | val_0_accuracy: 0.97899 |  0:00:36s\n",
            "epoch 5  | loss: 0.15281 | val_0_accuracy: 0.9123  |  0:00:45s\n",
            "epoch 6  | loss: 0.14643 | val_0_accuracy: 0.98383 |  0:00:53s\n",
            "epoch 7  | loss: 0.14572 | val_0_accuracy: 0.96902 |  0:01:00s\n",
            "epoch 8  | loss: 0.14621 | val_0_accuracy: 0.95505 |  0:01:07s\n",
            "epoch 9  | loss: 0.14894 | val_0_accuracy: 0.96723 |  0:01:14s\n",
            "epoch 10 | loss: 0.14892 | val_0_accuracy: 0.97941 |  0:01:21s\n",
            "epoch 11 | loss: 0.13988 | val_0_accuracy: 0.96933 |  0:01:29s\n",
            "epoch 12 | loss: 0.13786 | val_0_accuracy: 0.98067 |  0:01:35s\n",
            "epoch 13 | loss: 0.14574 | val_0_accuracy: 0.94318 |  0:01:43s\n",
            "epoch 14 | loss: 0.13913 | val_0_accuracy: 0.94339 |  0:01:50s\n",
            "epoch 15 | loss: 0.13744 | val_0_accuracy: 0.97584 |  0:01:58s\n",
            "epoch 16 | loss: 0.14454 | val_0_accuracy: 0.96114 |  0:02:04s\n",
            "\n",
            "Early stopping occurred at epoch 16 with best_epoch = 6 and best_val_0_accuracy = 0.98383\n",
            "TabNet Run 4 Accuracy: 0.9838252284423905\n"
          ]
        },
        {
          "output_type": "stream",
          "name": "stderr",
          "text": [
            "2024/11/06 08:52:51 WARNING mlflow.models.model: Model logged without a signature and input example. Please set `input_example` parameter when logging the model to auto infer the model signature.\n"
          ]
        },
        {
          "output_type": "stream",
          "name": "stdout",
          "text": [
            "epoch 0  | loss: 0.41929 | val_0_accuracy: 0.38389 |  0:00:08s\n",
            "epoch 1  | loss: 0.18578 | val_0_accuracy: 0.93278 |  0:00:14s\n",
            "epoch 2  | loss: 0.18115 | val_0_accuracy: 0.92921 |  0:00:22s\n",
            "epoch 3  | loss: 0.17531 | val_0_accuracy: 0.95652 |  0:00:29s\n",
            "epoch 4  | loss: 0.16409 | val_0_accuracy: 0.96765 |  0:00:37s\n",
            "epoch 5  | loss: 0.14944 | val_0_accuracy: 0.96271 |  0:00:43s\n",
            "epoch 6  | loss: 0.16722 | val_0_accuracy: 0.97637 |  0:00:51s\n",
            "epoch 7  | loss: 0.15541 | val_0_accuracy: 0.94444 |  0:00:58s\n",
            "epoch 8  | loss: 0.16078 | val_0_accuracy: 0.96912 |  0:01:08s\n",
            "epoch 9  | loss: 0.1483  | val_0_accuracy: 0.9458  |  0:01:15s\n",
            "epoch 10 | loss: 0.15088 | val_0_accuracy: 0.97406 |  0:01:23s\n",
            "epoch 11 | loss: 0.15544 | val_0_accuracy: 0.94538 |  0:01:30s\n",
            "epoch 12 | loss: 0.16065 | val_0_accuracy: 0.97322 |  0:01:38s\n",
            "epoch 13 | loss: 0.15392 | val_0_accuracy: 0.93772 |  0:01:44s\n",
            "epoch 14 | loss: 0.16448 | val_0_accuracy: 0.96944 |  0:01:52s\n",
            "epoch 15 | loss: 0.16991 | val_0_accuracy: 0.97185 |  0:01:59s\n",
            "epoch 16 | loss: 0.15299 | val_0_accuracy: 0.98004 |  0:02:07s\n",
            "epoch 17 | loss: 0.14154 | val_0_accuracy: 0.98698 |  0:02:14s\n",
            "epoch 18 | loss: 0.15154 | val_0_accuracy: 0.96902 |  0:02:22s\n",
            "epoch 19 | loss: 0.13777 | val_0_accuracy: 0.99275 |  0:02:28s\n",
            "epoch 20 | loss: 0.14487 | val_0_accuracy: 0.97899 |  0:02:36s\n",
            "epoch 21 | loss: 0.13876 | val_0_accuracy: 0.98593 |  0:02:43s\n",
            "epoch 22 | loss: 0.14437 | val_0_accuracy: 0.96818 |  0:02:51s\n",
            "epoch 23 | loss: 0.14192 | val_0_accuracy: 0.9896  |  0:02:57s\n",
            "epoch 24 | loss: 0.13582 | val_0_accuracy: 0.98582 |  0:03:05s\n",
            "epoch 25 | loss: 0.14237 | val_0_accuracy: 0.95914 |  0:03:13s\n",
            "epoch 26 | loss: 0.13241 | val_0_accuracy: 0.9666  |  0:03:21s\n",
            "epoch 27 | loss: 0.13465 | val_0_accuracy: 0.97647 |  0:03:28s\n",
            "epoch 28 | loss: 0.13899 | val_0_accuracy: 0.98855 |  0:03:36s\n",
            "epoch 29 | loss: 0.14463 | val_0_accuracy: 0.98425 |  0:03:42s\n",
            "\n",
            "Early stopping occurred at epoch 29 with best_epoch = 19 and best_val_0_accuracy = 0.99275\n",
            "TabNet Run 5 Accuracy: 0.9927528620943178\n"
          ]
        },
        {
          "output_type": "stream",
          "name": "stderr",
          "text": [
            "2024/11/06 08:56:46 WARNING mlflow.models.model: Model logged without a signature and input example. Please set `input_example` parameter when logging the model to auto infer the model signature.\n"
          ]
        }
      ]
    },
    {
      "cell_type": "code",
      "source": [],
      "metadata": {
        "id": "_d2BU4WwoB3t"
      },
      "execution_count": null,
      "outputs": []
    }
  ]
}